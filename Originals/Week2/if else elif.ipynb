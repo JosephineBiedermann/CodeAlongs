{
 "cells": [
  {
   "cell_type": "code",
   "execution_count": 14,
   "id": "desperate-washer",
   "metadata": {},
   "outputs": [],
   "source": [
    "var = 20"
   ]
  },
  {
   "cell_type": "code",
   "execution_count": 6,
   "id": "contemporary-advancement",
   "metadata": {},
   "outputs": [
    {
     "name": "stdout",
     "output_type": "stream",
     "text": [
      "thats 20\n"
     ]
    }
   ],
   "source": [
    "if var ==20:\n",
    "    print(\"thats 20\")\n",
    "elif var ==15:\n",
    "    print(\"thats 15\")\n",
    "else:\n",
    "    print(\"thats not either of those, i dont know that is\")\n",
    "    "
   ]
  },
  {
   "cell_type": "code",
   "execution_count": 18,
   "id": "speaking-transparency",
   "metadata": {},
   "outputs": [
    {
     "name": "stdout",
     "output_type": "stream",
     "text": [
      "thats less than or equal to 20\n",
      "yep thats 20\n"
     ]
    }
   ],
   "source": [
    "if var<=20:\n",
    "    print(\"thats less than or equal to 20\")\n",
    "    if var==20:\n",
    "        print(\"yep thats 20\")\n",
    "    elif var==10:\n",
    "        print(\"yep thats 10\")\n",
    "    else:\n",
    "        print(\"hmm not sure\")\n",
    "else:\n",
    "    print(\"this is over 20, i cannot handle it\")\n",
    "    "
   ]
  },
  {
   "cell_type": "markdown",
   "id": "collect-correspondence",
   "metadata": {},
   "source": [
    "### rules of conditional \n",
    "\n",
    "T/F - must be boolean \n",
    "\n",
    "exclusive - inclusive rules - \"how do i cover all the options\"\n",
    "\n",
    "ELSE - if none of the IF matches to be true - ELSE\n",
    "\n",
    "order - down the block - as soon as TRUE found - exits the block\n",
    "\n",
    "one IF \n",
    "\n",
    "maximum one ELSE \n",
    "(can be covered by an ELIF)\n",
    "\n",
    "multiple ELIFs allowed \n",
    "\n",
    "nested an option \n",
    "\n",
    "\n",
    "\n"
   ]
  },
  {
   "cell_type": "code",
   "execution_count": null,
   "id": "determined-bryan",
   "metadata": {},
   "outputs": [],
   "source": []
  }
 ],
 "metadata": {
  "kernelspec": {
   "display_name": "Python 3",
   "language": "python",
   "name": "python3"
  },
  "language_info": {
   "codemirror_mode": {
    "name": "ipython",
    "version": 3
   },
   "file_extension": ".py",
   "mimetype": "text/x-python",
   "name": "python",
   "nbconvert_exporter": "python",
   "pygments_lexer": "ipython3",
   "version": "3.8.3"
  }
 },
 "nbformat": 4,
 "nbformat_minor": 5
}
