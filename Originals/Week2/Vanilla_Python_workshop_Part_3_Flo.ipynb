{
 "cells": [
  {
   "cell_type": "markdown",
   "metadata": {},
   "source": [
    "# Part 3"
   ]
  },
  {
   "cell_type": "markdown",
   "metadata": {},
   "source": [
    "In this part:\n",
    "\n",
    "* more functions (complex & lambda)\n",
    "* list & dictionary comprehensions"
   ]
  },
  {
   "cell_type": "code",
   "execution_count": 19,
   "metadata": {},
   "outputs": [],
   "source": [
    "import pandas as pd\n",
    "import numpy as np\n",
    "import random"
   ]
  },
  {
   "cell_type": "markdown",
   "metadata": {},
   "source": [
    "# More on functions"
   ]
  },
  {
   "cell_type": "code",
   "execution_count": 72,
   "metadata": {},
   "outputs": [
    {
     "name": "stdout",
     "output_type": "stream",
     "text": [
      "7is odd\n"
     ]
    }
   ],
   "source": [
    "# functions can return something or they don't\n",
    "# when does a function return something?\n",
    "def odd_even_checker(number):\n",
    "    if number % 2 == 0:\n",
    "        print(str(number) + \"is even\")\n",
    "    else:\n",
    "        print(str(number) + \"is odd\")\n",
    "\n",
    "# what does this function return?\n",
    "a = odd_even_checker(7)"
   ]
  },
  {
   "cell_type": "code",
   "execution_count": 74,
   "metadata": {},
   "outputs": [],
   "source": [
    "# but what is a?\n",
    "a"
   ]
  },
  {
   "cell_type": "code",
   "execution_count": 76,
   "metadata": {},
   "outputs": [
    {
     "data": {
      "text/plain": [
       "NoneType"
      ]
     },
     "execution_count": 76,
     "metadata": {},
     "output_type": "execute_result"
    }
   ],
   "source": [
    "# nothing is returned, let's check the datatype\n",
    "type(a)"
   ]
  },
  {
   "cell_type": "code",
   "execution_count": 79,
   "metadata": {},
   "outputs": [],
   "source": [
    "def return_none():\n",
    "    return"
   ]
  },
  {
   "cell_type": "code",
   "execution_count": 80,
   "metadata": {},
   "outputs": [],
   "source": [
    "b = return_none()"
   ]
  },
  {
   "cell_type": "code",
   "execution_count": 81,
   "metadata": {},
   "outputs": [
    {
     "data": {
      "text/plain": [
       "NoneType"
      ]
     },
     "execution_count": 81,
     "metadata": {},
     "output_type": "execute_result"
    }
   ],
   "source": [
    "type(b)"
   ]
  },
  {
   "cell_type": "code",
   "execution_count": 92,
   "metadata": {},
   "outputs": [],
   "source": [
    "# but what about this?\n",
    "def inner_function():\n",
    "    return 7\n",
    "\n",
    "def outer_function():\n",
    "    inner_function()\n",
    "    \n",
    "outer_function()"
   ]
  },
  {
   "cell_type": "code",
   "execution_count": 93,
   "metadata": {},
   "outputs": [
    {
     "data": {
      "text/plain": [
       "NoneType"
      ]
     },
     "execution_count": 93,
     "metadata": {},
     "output_type": "execute_result"
    }
   ],
   "source": [
    "type(outer_function())"
   ]
  },
  {
   "cell_type": "code",
   "execution_count": 94,
   "metadata": {},
   "outputs": [
    {
     "data": {
      "text/plain": [
       "7"
      ]
     },
     "execution_count": 94,
     "metadata": {},
     "output_type": "execute_result"
    }
   ],
   "source": [
    "# is again None!\n",
    "# to make this work, we need to pass the returned value of the inner_function\n",
    "def inner_function():\n",
    "    return 7\n",
    "\n",
    "def outer_function():\n",
    "    return inner_function()\n",
    "    \n",
    "outer_function()"
   ]
  },
  {
   "cell_type": "markdown",
   "metadata": {},
   "source": [
    "Key takeaways:\n",
    "* only because a function doesn't return something, that doesn't mean it doesn't do anything\n",
    "* if you dont have an explicit `return` statement in your function, your function returns a `NoneType`\n",
    "* hold also true for the print statement:"
   ]
  },
  {
   "cell_type": "code",
   "execution_count": 95,
   "metadata": {},
   "outputs": [
    {
     "name": "stdout",
     "output_type": "stream",
     "text": [
      "A\n"
     ]
    },
    {
     "data": {
      "text/plain": [
       "NoneType"
      ]
     },
     "execution_count": 95,
     "metadata": {},
     "output_type": "execute_result"
    }
   ],
   "source": [
    "type(print('A'))"
   ]
  },
  {
   "cell_type": "markdown",
   "metadata": {},
   "source": [
    "**function as an object**"
   ]
  },
  {
   "cell_type": "code",
   "execution_count": 97,
   "metadata": {},
   "outputs": [
    {
     "data": {
      "text/plain": [
       "'CAN YOU WASH THE DISHES!'"
      ]
     },
     "execution_count": 97,
     "metadata": {},
     "output_type": "execute_result"
    }
   ],
   "source": [
    "# let's define another function\n",
    "def yell(text):\n",
    "    return text.upper() + \"!\"\n",
    "\n",
    "yell('can you wash the dishes')"
   ]
  },
  {
   "cell_type": "code",
   "execution_count": 98,
   "metadata": {},
   "outputs": [
    {
     "data": {
      "text/plain": [
       "<function __main__.yell(text)>"
      ]
     },
     "execution_count": 98,
     "metadata": {},
     "output_type": "execute_result"
    }
   ],
   "source": [
    "yell"
   ]
  },
  {
   "cell_type": "code",
   "execution_count": 100,
   "metadata": {},
   "outputs": [],
   "source": [
    "# yell without the () is just the bare function as an object\n",
    "# I can assign that to a variable\n",
    "bark = yell"
   ]
  },
  {
   "cell_type": "code",
   "execution_count": 101,
   "metadata": {},
   "outputs": [
    {
     "data": {
      "text/plain": [
       "'WOOF!'"
      ]
     },
     "execution_count": 101,
     "metadata": {},
     "output_type": "execute_result"
    }
   ],
   "source": [
    "# and say\n",
    "bark('woof')"
   ]
  },
  {
   "cell_type": "code",
   "execution_count": null,
   "metadata": {},
   "outputs": [],
   "source": [
    "# you can look into del here, to be more confused with\n",
    "# what happens if you delete the name, but that's not \n",
    "# important"
   ]
  },
  {
   "cell_type": "markdown",
   "metadata": {},
   "source": [
    "Objects in Python can be thrown around, e.g. put in other objects:"
   ]
  },
  {
   "cell_type": "code",
   "execution_count": 102,
   "metadata": {},
   "outputs": [],
   "source": [
    "my_funcs = [yell,\n",
    "            str.lower,\n",
    "            str.capitalize,\n",
    "           ]"
   ]
  },
  {
   "cell_type": "code",
   "execution_count": 103,
   "metadata": {},
   "outputs": [
    {
     "data": {
      "text/plain": [
       "[<function __main__.yell(text)>,\n",
       " <method 'lower' of 'str' objects>,\n",
       " <method 'capitalize' of 'str' objects>]"
      ]
     },
     "execution_count": 103,
     "metadata": {},
     "output_type": "execute_result"
    }
   ],
   "source": [
    "# now what is this?\n",
    "my_funcs"
   ]
  },
  {
   "cell_type": "code",
   "execution_count": 105,
   "metadata": {},
   "outputs": [
    {
     "data": {
      "text/plain": [
       "['HEY THERE!', 'hey there', 'Hey there']"
      ]
     },
     "execution_count": 105,
     "metadata": {},
     "output_type": "execute_result"
    }
   ],
   "source": [
    "[func('hey there') for func in my_funcs]"
   ]
  },
  {
   "cell_type": "markdown",
   "metadata": {},
   "source": [
    "or you can do this:"
   ]
  },
  {
   "cell_type": "code",
   "execution_count": 108,
   "metadata": {},
   "outputs": [
    {
     "data": {
      "text/plain": [
       "'HEY THERE!'"
      ]
     },
     "execution_count": 108,
     "metadata": {},
     "output_type": "execute_result"
    }
   ],
   "source": [
    "my_funcs[0]('hey there')"
   ]
  },
  {
   "cell_type": "markdown",
   "metadata": {},
   "source": [
    "#### passing functions to other functions"
   ]
  },
  {
   "cell_type": "code",
   "execution_count": 113,
   "metadata": {},
   "outputs": [
    {
     "name": "stdout",
     "output_type": "stream",
     "text": [
      "HI, I AM A PYTHON PROGRAM!\n"
     ]
    }
   ],
   "source": [
    "# function of higher order (map() is such a function)\n",
    "def greet(func):\n",
    "    greeting = func('Hi, I am a python program')\n",
    "    print(greeting)\n",
    "    \n",
    "greet(bark)"
   ]
  },
  {
   "cell_type": "code",
   "execution_count": 114,
   "metadata": {},
   "outputs": [
    {
     "name": "stdout",
     "output_type": "stream",
     "text": [
      "hi, i am a python program...\n"
     ]
    }
   ],
   "source": [
    "# or with another \"whisper\" function\n",
    "def whisper(text):\n",
    "    return text.lower() + '...'\n",
    "\n",
    "greet(whisper)"
   ]
  },
  {
   "cell_type": "markdown",
   "metadata": {},
   "source": [
    "**default parameters**"
   ]
  },
  {
   "cell_type": "code",
   "execution_count": 34,
   "metadata": {},
   "outputs": [],
   "source": [
    "def cubic(x, a, b, c=1, d=1):\n",
    "    return a*x**3 + b*x**2 + c*x + d"
   ]
  },
  {
   "cell_type": "code",
   "execution_count": 37,
   "metadata": {},
   "outputs": [
    {
     "data": {
      "text/plain": [
       "94"
      ]
     },
     "execution_count": 37,
     "metadata": {},
     "output_type": "execute_result"
    }
   ],
   "source": [
    "cubic(3, 2, 4, 1)"
   ]
  },
  {
   "cell_type": "code",
   "execution_count": 38,
   "metadata": {},
   "outputs": [
    {
     "data": {
      "text/plain": [
       "94"
      ]
     },
     "execution_count": 38,
     "metadata": {},
     "output_type": "execute_result"
    }
   ],
   "source": [
    "# leaving out providing one default parameter, and \n",
    "# the function falls back to the default\n",
    "cubic(3, 2, 4)"
   ]
  },
  {
   "cell_type": "code",
   "execution_count": 42,
   "metadata": {},
   "outputs": [
    {
     "data": {
      "text/plain": [
       "97"
      ]
     },
     "execution_count": 42,
     "metadata": {},
     "output_type": "execute_result"
    }
   ],
   "source": [
    "# you can explicitly provide the value of the parameters,\n",
    "# order doesn't matter, but: non-default must be provided first\n",
    "cubic(3, 2, 4, d=4, c=1)"
   ]
  },
  {
   "cell_type": "code",
   "execution_count": 47,
   "metadata": {},
   "outputs": [
    {
     "data": {
      "text/plain": [
       "97"
      ]
     },
     "execution_count": 47,
     "metadata": {},
     "output_type": "execute_result"
    }
   ],
   "source": [
    "# and if you wish, you can provide all explicitely!\n",
    "cubic(c=1, d=4, b=4, x=3, a=2)"
   ]
  },
  {
   "cell_type": "markdown",
   "metadata": {},
   "source": [
    "### Arguments unpacking"
   ]
  },
  {
   "cell_type": "markdown",
   "metadata": {},
   "source": [
    "#### as dictionary, with explicity parameters"
   ]
  },
  {
   "cell_type": "code",
   "execution_count": 50,
   "metadata": {},
   "outputs": [],
   "source": [
    "kwargs = {'a':2,'b':4,'c':1,'d':4,'x':3}"
   ]
  },
  {
   "cell_type": "code",
   "execution_count": 51,
   "metadata": {},
   "outputs": [
    {
     "data": {
      "text/plain": [
       "97"
      ]
     },
     "execution_count": 51,
     "metadata": {},
     "output_type": "execute_result"
    }
   ],
   "source": [
    "# call the function with those k-word arguments (kwargs)\n",
    "cubic(**kwargs)"
   ]
  },
  {
   "cell_type": "markdown",
   "metadata": {},
   "source": [
    "#### as list, non-explicitly"
   ]
  },
  {
   "cell_type": "code",
   "execution_count": 57,
   "metadata": {},
   "outputs": [
    {
     "data": {
      "text/plain": [
       "97"
      ]
     },
     "execution_count": 57,
     "metadata": {},
     "output_type": "execute_result"
    }
   ],
   "source": [
    "args = [3, 2, 4, 1, 4]\n",
    "cubic(*args)"
   ]
  },
  {
   "cell_type": "markdown",
   "metadata": {},
   "source": [
    "**if you're unsure about what your arguments in a function should be, you can even do this:**"
   ]
  },
  {
   "cell_type": "code",
   "execution_count": 68,
   "metadata": {},
   "outputs": [],
   "source": [
    "def multiply_all(*args):\n",
    "    result=1\n",
    "    for arg in args:\n",
    "        result*=arg\n",
    "    return result"
   ]
  },
  {
   "cell_type": "code",
   "execution_count": 70,
   "metadata": {},
   "outputs": [
    {
     "data": {
      "text/plain": [
       "3240"
      ]
     },
     "execution_count": 70,
     "metadata": {},
     "output_type": "execute_result"
    }
   ],
   "source": [
    "multiply_all(4,5,6,3,9)\n"
   ]
  },
  {
   "cell_type": "markdown",
   "metadata": {},
   "source": [
    "# Lambda functions"
   ]
  },
  {
   "cell_type": "code",
   "execution_count": 116,
   "metadata": {},
   "outputs": [
    {
     "data": {
      "text/plain": [
       "<function __main__.<lambda>(x, y)>"
      ]
     },
     "execution_count": 116,
     "metadata": {},
     "output_type": "execute_result"
    }
   ],
   "source": [
    "lambda x, y : x + y"
   ]
  },
  {
   "cell_type": "code",
   "execution_count": 118,
   "metadata": {},
   "outputs": [
    {
     "data": {
      "text/plain": [
       "9"
      ]
     },
     "execution_count": 118,
     "metadata": {},
     "output_type": "execute_result"
    }
   ],
   "source": [
    "add = lambda x, y : x + y\n",
    "add(4,5)"
   ]
  },
  {
   "cell_type": "code",
   "execution_count": null,
   "metadata": {},
   "outputs": [],
   "source": [
    "# same like\n",
    "def add(x,y):\n",
    "    return x + y"
   ]
  },
  {
   "cell_type": "code",
   "execution_count": null,
   "metadata": {},
   "outputs": [],
   "source": [
    "# most elegant\n",
    "(lambda x, y : x + y)(4,5)\n",
    "# you don't have to bind the function to a name before \n",
    "# executing it. all is done inline"
   ]
  },
  {
   "cell_type": "code",
   "execution_count": 119,
   "metadata": {},
   "outputs": [
    {
     "data": {
      "text/plain": [
       "[(4, 'a'), (2, 'b'), (3, 'c'), (1, 'd')]"
      ]
     },
     "execution_count": 119,
     "metadata": {},
     "output_type": "execute_result"
    }
   ],
   "source": [
    "# usefull e.g. here\n",
    "tuples = [(1, 'd'), (2, 'b'), (4, 'a'), (3, 'c')]\n",
    "\n",
    "# sort the tuples by a key, which is provided by a function\n",
    "sorted(tuples, key=lambda x: x[1])"
   ]
  },
  {
   "cell_type": "markdown",
   "metadata": {},
   "source": [
    "# List comprehensions"
   ]
  },
  {
   "cell_type": "markdown",
   "metadata": {},
   "source": [
    "Why a list comprehension? compare these two code snippets, which do the same\n",
    "\n",
    "**snippet 1**\n",
    "```python\n",
    "my_list = []\n",
    "for i in range(10):\n",
    "    my_list.append(i**2)\n",
    "my_list\n",
    "```\n",
    "\n",
    "**snippet 2**\n",
    "\n",
    "```python\n",
    "[i**2 for i in range(10)]\n",
    "```"
   ]
  },
  {
   "cell_type": "markdown",
   "metadata": {},
   "source": [
    "\"I am confused, how to build it?\" \n",
    "You start with an iterable you want to loop over, from which you want to generate a new list, whose elements are transformed in some way. And then you build it up step by step."
   ]
  },
  {
   "cell_type": "code",
   "execution_count": 6,
   "metadata": {},
   "outputs": [
    {
     "data": {
      "text/plain": [
       "[0, 1, 2, 3, 4, 5, 6, 7, 8, 9]"
      ]
     },
     "execution_count": 6,
     "metadata": {},
     "output_type": "execute_result"
    }
   ],
   "source": [
    "my_iterable = range(10)\n",
    "\n",
    "# first step: Just loop through the elements,  and do nothing (builds the original list again)\n",
    "[x for x in my_iterable]"
   ]
  },
  {
   "cell_type": "code",
   "execution_count": 7,
   "metadata": {},
   "outputs": [
    {
     "data": {
      "text/plain": [
       "['0', '1', '2', '3', '4', '5', '6', '7', '8', '9']"
      ]
     },
     "execution_count": 7,
     "metadata": {},
     "output_type": "execute_result"
    }
   ],
   "source": [
    "# then change the first x according to your wishes:\n",
    "[str(x) for x in my_iterable]"
   ]
  },
  {
   "cell_type": "code",
   "execution_count": 8,
   "metadata": {},
   "outputs": [
    {
     "data": {
      "text/plain": [
       "['4', '5', '6', '7']"
      ]
     },
     "execution_count": 8,
     "metadata": {},
     "output_type": "execute_result"
    }
   ],
   "source": [
    "# add conditions to it, if you want\n",
    "[str(x) for x in my_iterable if x > 3 and x < 8]"
   ]
  },
  {
   "cell_type": "code",
   "execution_count": 9,
   "metadata": {},
   "outputs": [
    {
     "data": {
      "text/plain": [
       "['z', 'z', 'z', 'z', '4', '5', '6', '7', 'z', 'z']"
      ]
     },
     "execution_count": 9,
     "metadata": {},
     "output_type": "execute_result"
    }
   ],
   "source": [
    "# if you want to use if-else, all if-else conditions must be written before 'for'\n",
    "# add conditions to it, if you want\n",
    "[str(x) if x > 3 and x < 8 else 'z' for x in my_iterable]"
   ]
  },
  {
   "cell_type": "markdown",
   "metadata": {},
   "source": [
    "**Tiny exercise**: Use a list comprehension to create and print a list of even numbers starting with 2 and ending with 20."
   ]
  },
  {
   "cell_type": "code",
   "execution_count": 124,
   "metadata": {},
   "outputs": [
    {
     "data": {
      "text/plain": [
       "[0, 2, 4, 6, 8, 10, 12, 14, 16, 18, 20]"
      ]
     },
     "execution_count": 124,
     "metadata": {},
     "output_type": "execute_result"
    }
   ],
   "source": [
    "[x for x in range(21) if x%2 == 0]"
   ]
  },
  {
   "cell_type": "markdown",
   "metadata": {},
   "source": [
    "**Tiny exercise 2**: Use a list comprehension to select and print the names of all CSV files in the `data` folder."
   ]
  },
  {
   "cell_type": "code",
   "execution_count": 38,
   "metadata": {},
   "outputs": [
    {
     "name": "stdout",
     "output_type": "stream",
     "text": [
      "['myfile2.txt', 'myfile1.txt', 'myfile.txt']\n"
     ]
    }
   ],
   "source": [
    "import os\n",
    "list_files = [f for f in os.listdir('data') if f.endswith('.txt')]\n",
    "\n",
    "print(list_files)"
   ]
  },
  {
   "cell_type": "markdown",
   "metadata": {},
   "source": [
    "#### nested comprehension"
   ]
  },
  {
   "cell_type": "code",
   "execution_count": 123,
   "metadata": {},
   "outputs": [],
   "source": [
    "arr = np.array([[1,6,3,4],\n",
    "                [3,2,6,2],\n",
    "                [0,2,3,9],\n",
    "                [2,5,2,7],\n",
    "               ])"
   ]
  },
  {
   "cell_type": "code",
   "execution_count": 124,
   "metadata": {},
   "outputs": [
    {
     "data": {
      "text/plain": [
       "[1, 6, 3, 4, 3, 2, 6, 2, 0, 2, 3, 9, 2, 5, 2, 7]"
      ]
     },
     "execution_count": 124,
     "metadata": {},
     "output_type": "execute_result"
    }
   ],
   "source": [
    "[number for lst in arr for number in lst]"
   ]
  },
  {
   "cell_type": "markdown",
   "metadata": {},
   "source": [
    "# Dictionary comprehensions"
   ]
  },
  {
   "cell_type": "markdown",
   "metadata": {},
   "source": [
    "What do I want?\n",
    "```python\n",
    "{1:1,\n",
    "2:4,\n",
    "3:9,\n",
    "4:16,\n",
    "5:25,\n",
    "...\n",
    "}\n",
    "```"
   ]
  },
  {
   "cell_type": "code",
   "execution_count": 16,
   "metadata": {},
   "outputs": [
    {
     "data": {
      "text/plain": [
       "[0, 1, 4, 9, 16, 25]"
      ]
     },
     "execution_count": 16,
     "metadata": {},
     "output_type": "execute_result"
    }
   ],
   "source": [
    "# good approach: first write down the list comprehension first for all the resulting values\n",
    "[x * x for x in range(6)]"
   ]
  },
  {
   "cell_type": "code",
   "execution_count": 17,
   "metadata": {},
   "outputs": [],
   "source": [
    "# then add the keys and make it a list comprehension\n",
    "squares = {x: x * x for x in range(6)}"
   ]
  },
  {
   "cell_type": "markdown",
   "metadata": {},
   "source": [
    "**another example**"
   ]
  },
  {
   "cell_type": "markdown",
   "metadata": {},
   "source": [
    "What do I want?\n",
    "\n",
    "```python\n",
    "{'data': 4,\n",
    " 'science': 7,\n",
    " 'machine': 7,\n",
    " 'learning': 8}\n",
    "```"
   ]
  },
  {
   "cell_type": "code",
   "execution_count": 14,
   "metadata": {},
   "outputs": [
    {
     "data": {
      "text/plain": [
       "[4, 7, 7, 8]"
      ]
     },
     "execution_count": 14,
     "metadata": {},
     "output_type": "execute_result"
    }
   ],
   "source": [
    "words = ['data', 'science', 'machine', 'learning']\n",
    "\n",
    "[len(i) for i in words]"
   ]
  },
  {
   "cell_type": "code",
   "execution_count": 15,
   "metadata": {},
   "outputs": [
    {
     "data": {
      "text/plain": [
       "{'data': 4, 'science': 7, 'machine': 7, 'learning': 8}"
      ]
     },
     "execution_count": 15,
     "metadata": {},
     "output_type": "execute_result"
    }
   ],
   "source": [
    "{i:len(i) for i in words}"
   ]
  },
  {
   "cell_type": "markdown",
   "metadata": {},
   "source": [
    "***with conditionals***"
   ]
  },
  {
   "cell_type": "code",
   "execution_count": 20,
   "metadata": {},
   "outputs": [
    {
     "data": {
      "text/plain": [
       "{'data': 'short', 'science': 7, 'machine': 7, 'learning': 8}"
      ]
     },
     "execution_count": 20,
     "metadata": {},
     "output_type": "execute_result"
    }
   ],
   "source": [
    "{i:len(i) if len(i) > 5 else \"short\" for i in words}"
   ]
  },
  {
   "cell_type": "code",
   "execution_count": 22,
   "metadata": {},
   "outputs": [
    {
     "name": "stdout",
     "output_type": "stream",
     "text": [
      "{'data': 'short', 'science': 7, 'machine': 7, 'learning': 8}\n"
     ]
    }
   ],
   "source": [
    "# imagine how many lines that would span\n",
    "# building that in a for-loop\n",
    "dct = {}\n",
    "for word in words:\n",
    "    if len(word) > 5:\n",
    "        dct[word] = len(word)\n",
    "    else:\n",
    "        dct[word] = 'short'\n",
    "print(dct)"
   ]
  },
  {
   "cell_type": "markdown",
   "metadata": {},
   "source": [
    "***zip!***\n",
    "\n",
    "When do we need it? when we want to iterate over two iterables of the **same** length and for every iteration, we want to have the pair of the current index (like a zipper!)"
   ]
  },
  {
   "cell_type": "code",
   "execution_count": 23,
   "metadata": {},
   "outputs": [
    {
     "name": "stdout",
     "output_type": "stream",
     "text": [
      "('data', 5)\n",
      "('science', 3)\n",
      "('machine', 1)\n",
      "('learning', 8)\n"
     ]
    }
   ],
   "source": [
    "words = ['data', 'science', 'machine', 'learning']\n",
    "values = [5, 3, 1, 8]\n",
    "\n",
    "for pair in zip(words, values):\n",
    "    print(pair)"
   ]
  },
  {
   "cell_type": "code",
   "execution_count": 24,
   "metadata": {},
   "outputs": [
    {
     "name": "stdout",
     "output_type": "stream",
     "text": [
      "word is  data value is  5\n",
      "word is  science value is  3\n",
      "word is  machine value is  1\n",
      "word is  learning value is  8\n"
     ]
    }
   ],
   "source": [
    "# unpack the pair!\n",
    "for word, value in zip(words, values):\n",
    "    print('word is ', word, 'value is ', value)"
   ]
  },
  {
   "cell_type": "code",
   "execution_count": 25,
   "metadata": {},
   "outputs": [
    {
     "data": {
      "text/plain": [
       "{'data': 5, 'science': 3, 'machine': 1, 'learning': 8}"
      ]
     },
     "execution_count": 25,
     "metadata": {},
     "output_type": "execute_result"
    }
   ],
   "source": [
    "# let's use it in a dict comprehension\n",
    "{word:value for word, value in zip(words, values)}"
   ]
  },
  {
   "cell_type": "markdown",
   "metadata": {},
   "source": [
    "### why could that be important for us data analysts?"
   ]
  },
  {
   "cell_type": "markdown",
   "metadata": {},
   "source": [
    "* because dictionaries are very comfortable as input into dataframes\n",
    "* and dictionaries and dictionary-like are widely used as datatypes for data, e.g. JSON (later in course, in webscraping)"
   ]
  },
  {
   "cell_type": "code",
   "execution_count": 28,
   "metadata": {},
   "outputs": [
    {
     "data": {
      "text/html": [
       "<div>\n",
       "<style scoped>\n",
       "    .dataframe tbody tr th:only-of-type {\n",
       "        vertical-align: middle;\n",
       "    }\n",
       "\n",
       "    .dataframe tbody tr th {\n",
       "        vertical-align: top;\n",
       "    }\n",
       "\n",
       "    .dataframe thead th {\n",
       "        text-align: right;\n",
       "    }\n",
       "</style>\n",
       "<table border=\"1\" class=\"dataframe\">\n",
       "  <thead>\n",
       "    <tr style=\"text-align: right;\">\n",
       "      <th></th>\n",
       "      <th>data</th>\n",
       "      <th>science</th>\n",
       "      <th>machine</th>\n",
       "      <th>learning</th>\n",
       "    </tr>\n",
       "  </thead>\n",
       "  <tbody>\n",
       "    <tr>\n",
       "      <th>0</th>\n",
       "      <td>5</td>\n",
       "      <td>3</td>\n",
       "      <td>1</td>\n",
       "      <td>8</td>\n",
       "    </tr>\n",
       "  </tbody>\n",
       "</table>\n",
       "</div>"
      ],
      "text/plain": [
       "   data  science  machine  learning\n",
       "0     5        3        1         8"
      ]
     },
     "execution_count": 28,
     "metadata": {},
     "output_type": "execute_result"
    }
   ],
   "source": [
    "pd.DataFrame({word:value for word, value in zip(words, values)}, index=[0])"
   ]
  },
  {
   "cell_type": "markdown",
   "metadata": {},
   "source": [
    "important also for just creating a DataFrame quickly and play around with it, try out if something works"
   ]
  },
  {
   "cell_type": "code",
   "execution_count": 30,
   "metadata": {},
   "outputs": [
    {
     "data": {
      "text/html": [
       "<div>\n",
       "<style scoped>\n",
       "    .dataframe tbody tr th:only-of-type {\n",
       "        vertical-align: middle;\n",
       "    }\n",
       "\n",
       "    .dataframe tbody tr th {\n",
       "        vertical-align: top;\n",
       "    }\n",
       "\n",
       "    .dataframe thead th {\n",
       "        text-align: right;\n",
       "    }\n",
       "</style>\n",
       "<table border=\"1\" class=\"dataframe\">\n",
       "  <thead>\n",
       "    <tr style=\"text-align: right;\">\n",
       "      <th></th>\n",
       "      <th>a</th>\n",
       "      <th>b</th>\n",
       "      <th>c</th>\n",
       "      <th>d</th>\n",
       "      <th>e</th>\n",
       "      <th>f</th>\n",
       "      <th>g</th>\n",
       "      <th>h</th>\n",
       "      <th>i</th>\n",
       "      <th>j</th>\n",
       "      <th>...</th>\n",
       "      <th>q</th>\n",
       "      <th>r</th>\n",
       "      <th>s</th>\n",
       "      <th>t</th>\n",
       "      <th>u</th>\n",
       "      <th>v</th>\n",
       "      <th>w</th>\n",
       "      <th>x</th>\n",
       "      <th>y</th>\n",
       "      <th>z</th>\n",
       "    </tr>\n",
       "  </thead>\n",
       "  <tbody>\n",
       "    <tr>\n",
       "      <th>0</th>\n",
       "      <td>14</td>\n",
       "      <td>67</td>\n",
       "      <td>88</td>\n",
       "      <td>67</td>\n",
       "      <td>14</td>\n",
       "      <td>87</td>\n",
       "      <td>34</td>\n",
       "      <td>7</td>\n",
       "      <td>35</td>\n",
       "      <td>42</td>\n",
       "      <td>...</td>\n",
       "      <td>99</td>\n",
       "      <td>1</td>\n",
       "      <td>19</td>\n",
       "      <td>28</td>\n",
       "      <td>69</td>\n",
       "      <td>89</td>\n",
       "      <td>54</td>\n",
       "      <td>40</td>\n",
       "      <td>17</td>\n",
       "      <td>36</td>\n",
       "    </tr>\n",
       "    <tr>\n",
       "      <th>1</th>\n",
       "      <td>71</td>\n",
       "      <td>26</td>\n",
       "      <td>16</td>\n",
       "      <td>94</td>\n",
       "      <td>43</td>\n",
       "      <td>2</td>\n",
       "      <td>82</td>\n",
       "      <td>65</td>\n",
       "      <td>72</td>\n",
       "      <td>97</td>\n",
       "      <td>...</td>\n",
       "      <td>8</td>\n",
       "      <td>5</td>\n",
       "      <td>96</td>\n",
       "      <td>24</td>\n",
       "      <td>63</td>\n",
       "      <td>39</td>\n",
       "      <td>72</td>\n",
       "      <td>32</td>\n",
       "      <td>29</td>\n",
       "      <td>23</td>\n",
       "    </tr>\n",
       "    <tr>\n",
       "      <th>2</th>\n",
       "      <td>35</td>\n",
       "      <td>82</td>\n",
       "      <td>58</td>\n",
       "      <td>61</td>\n",
       "      <td>83</td>\n",
       "      <td>38</td>\n",
       "      <td>48</td>\n",
       "      <td>29</td>\n",
       "      <td>25</td>\n",
       "      <td>78</td>\n",
       "      <td>...</td>\n",
       "      <td>45</td>\n",
       "      <td>50</td>\n",
       "      <td>24</td>\n",
       "      <td>22</td>\n",
       "      <td>89</td>\n",
       "      <td>30</td>\n",
       "      <td>97</td>\n",
       "      <td>10</td>\n",
       "      <td>76</td>\n",
       "      <td>33</td>\n",
       "    </tr>\n",
       "    <tr>\n",
       "      <th>3</th>\n",
       "      <td>1</td>\n",
       "      <td>8</td>\n",
       "      <td>24</td>\n",
       "      <td>13</td>\n",
       "      <td>72</td>\n",
       "      <td>81</td>\n",
       "      <td>79</td>\n",
       "      <td>35</td>\n",
       "      <td>56</td>\n",
       "      <td>4</td>\n",
       "      <td>...</td>\n",
       "      <td>53</td>\n",
       "      <td>85</td>\n",
       "      <td>21</td>\n",
       "      <td>76</td>\n",
       "      <td>28</td>\n",
       "      <td>88</td>\n",
       "      <td>14</td>\n",
       "      <td>76</td>\n",
       "      <td>46</td>\n",
       "      <td>53</td>\n",
       "    </tr>\n",
       "    <tr>\n",
       "      <th>4</th>\n",
       "      <td>68</td>\n",
       "      <td>30</td>\n",
       "      <td>97</td>\n",
       "      <td>99</td>\n",
       "      <td>18</td>\n",
       "      <td>10</td>\n",
       "      <td>88</td>\n",
       "      <td>31</td>\n",
       "      <td>69</td>\n",
       "      <td>31</td>\n",
       "      <td>...</td>\n",
       "      <td>46</td>\n",
       "      <td>34</td>\n",
       "      <td>27</td>\n",
       "      <td>59</td>\n",
       "      <td>61</td>\n",
       "      <td>4</td>\n",
       "      <td>43</td>\n",
       "      <td>45</td>\n",
       "      <td>35</td>\n",
       "      <td>31</td>\n",
       "    </tr>\n",
       "    <tr>\n",
       "      <th>5</th>\n",
       "      <td>40</td>\n",
       "      <td>9</td>\n",
       "      <td>64</td>\n",
       "      <td>26</td>\n",
       "      <td>39</td>\n",
       "      <td>31</td>\n",
       "      <td>31</td>\n",
       "      <td>68</td>\n",
       "      <td>40</td>\n",
       "      <td>95</td>\n",
       "      <td>...</td>\n",
       "      <td>37</td>\n",
       "      <td>18</td>\n",
       "      <td>84</td>\n",
       "      <td>95</td>\n",
       "      <td>87</td>\n",
       "      <td>68</td>\n",
       "      <td>62</td>\n",
       "      <td>86</td>\n",
       "      <td>44</td>\n",
       "      <td>81</td>\n",
       "    </tr>\n",
       "    <tr>\n",
       "      <th>6</th>\n",
       "      <td>7</td>\n",
       "      <td>39</td>\n",
       "      <td>87</td>\n",
       "      <td>90</td>\n",
       "      <td>15</td>\n",
       "      <td>24</td>\n",
       "      <td>5</td>\n",
       "      <td>34</td>\n",
       "      <td>66</td>\n",
       "      <td>13</td>\n",
       "      <td>...</td>\n",
       "      <td>18</td>\n",
       "      <td>38</td>\n",
       "      <td>4</td>\n",
       "      <td>75</td>\n",
       "      <td>4</td>\n",
       "      <td>96</td>\n",
       "      <td>79</td>\n",
       "      <td>91</td>\n",
       "      <td>32</td>\n",
       "      <td>95</td>\n",
       "    </tr>\n",
       "    <tr>\n",
       "      <th>7</th>\n",
       "      <td>55</td>\n",
       "      <td>61</td>\n",
       "      <td>37</td>\n",
       "      <td>98</td>\n",
       "      <td>3</td>\n",
       "      <td>25</td>\n",
       "      <td>76</td>\n",
       "      <td>17</td>\n",
       "      <td>82</td>\n",
       "      <td>94</td>\n",
       "      <td>...</td>\n",
       "      <td>70</td>\n",
       "      <td>11</td>\n",
       "      <td>14</td>\n",
       "      <td>4</td>\n",
       "      <td>39</td>\n",
       "      <td>20</td>\n",
       "      <td>1</td>\n",
       "      <td>48</td>\n",
       "      <td>1</td>\n",
       "      <td>68</td>\n",
       "    </tr>\n",
       "    <tr>\n",
       "      <th>8</th>\n",
       "      <td>82</td>\n",
       "      <td>6</td>\n",
       "      <td>32</td>\n",
       "      <td>9</td>\n",
       "      <td>35</td>\n",
       "      <td>19</td>\n",
       "      <td>80</td>\n",
       "      <td>38</td>\n",
       "      <td>18</td>\n",
       "      <td>15</td>\n",
       "      <td>...</td>\n",
       "      <td>82</td>\n",
       "      <td>61</td>\n",
       "      <td>25</td>\n",
       "      <td>65</td>\n",
       "      <td>26</td>\n",
       "      <td>47</td>\n",
       "      <td>2</td>\n",
       "      <td>19</td>\n",
       "      <td>66</td>\n",
       "      <td>30</td>\n",
       "    </tr>\n",
       "    <tr>\n",
       "      <th>9</th>\n",
       "      <td>85</td>\n",
       "      <td>81</td>\n",
       "      <td>27</td>\n",
       "      <td>50</td>\n",
       "      <td>13</td>\n",
       "      <td>41</td>\n",
       "      <td>37</td>\n",
       "      <td>56</td>\n",
       "      <td>42</td>\n",
       "      <td>66</td>\n",
       "      <td>...</td>\n",
       "      <td>7</td>\n",
       "      <td>25</td>\n",
       "      <td>30</td>\n",
       "      <td>45</td>\n",
       "      <td>57</td>\n",
       "      <td>92</td>\n",
       "      <td>23</td>\n",
       "      <td>42</td>\n",
       "      <td>40</td>\n",
       "      <td>50</td>\n",
       "    </tr>\n",
       "    <tr>\n",
       "      <th>10</th>\n",
       "      <td>9</td>\n",
       "      <td>94</td>\n",
       "      <td>62</td>\n",
       "      <td>42</td>\n",
       "      <td>68</td>\n",
       "      <td>70</td>\n",
       "      <td>42</td>\n",
       "      <td>94</td>\n",
       "      <td>90</td>\n",
       "      <td>86</td>\n",
       "      <td>...</td>\n",
       "      <td>36</td>\n",
       "      <td>67</td>\n",
       "      <td>45</td>\n",
       "      <td>6</td>\n",
       "      <td>93</td>\n",
       "      <td>6</td>\n",
       "      <td>76</td>\n",
       "      <td>81</td>\n",
       "      <td>22</td>\n",
       "      <td>56</td>\n",
       "    </tr>\n",
       "    <tr>\n",
       "      <th>11</th>\n",
       "      <td>20</td>\n",
       "      <td>22</td>\n",
       "      <td>47</td>\n",
       "      <td>20</td>\n",
       "      <td>25</td>\n",
       "      <td>91</td>\n",
       "      <td>83</td>\n",
       "      <td>77</td>\n",
       "      <td>51</td>\n",
       "      <td>98</td>\n",
       "      <td>...</td>\n",
       "      <td>12</td>\n",
       "      <td>72</td>\n",
       "      <td>28</td>\n",
       "      <td>92</td>\n",
       "      <td>60</td>\n",
       "      <td>80</td>\n",
       "      <td>5</td>\n",
       "      <td>22</td>\n",
       "      <td>52</td>\n",
       "      <td>46</td>\n",
       "    </tr>\n",
       "    <tr>\n",
       "      <th>12</th>\n",
       "      <td>58</td>\n",
       "      <td>21</td>\n",
       "      <td>36</td>\n",
       "      <td>77</td>\n",
       "      <td>76</td>\n",
       "      <td>5</td>\n",
       "      <td>26</td>\n",
       "      <td>46</td>\n",
       "      <td>13</td>\n",
       "      <td>11</td>\n",
       "      <td>...</td>\n",
       "      <td>5</td>\n",
       "      <td>64</td>\n",
       "      <td>87</td>\n",
       "      <td>87</td>\n",
       "      <td>20</td>\n",
       "      <td>31</td>\n",
       "      <td>24</td>\n",
       "      <td>57</td>\n",
       "      <td>68</td>\n",
       "      <td>70</td>\n",
       "    </tr>\n",
       "    <tr>\n",
       "      <th>13</th>\n",
       "      <td>37</td>\n",
       "      <td>43</td>\n",
       "      <td>91</td>\n",
       "      <td>64</td>\n",
       "      <td>85</td>\n",
       "      <td>98</td>\n",
       "      <td>74</td>\n",
       "      <td>99</td>\n",
       "      <td>87</td>\n",
       "      <td>27</td>\n",
       "      <td>...</td>\n",
       "      <td>47</td>\n",
       "      <td>99</td>\n",
       "      <td>83</td>\n",
       "      <td>42</td>\n",
       "      <td>47</td>\n",
       "      <td>43</td>\n",
       "      <td>57</td>\n",
       "      <td>28</td>\n",
       "      <td>24</td>\n",
       "      <td>28</td>\n",
       "    </tr>\n",
       "    <tr>\n",
       "      <th>14</th>\n",
       "      <td>99</td>\n",
       "      <td>99</td>\n",
       "      <td>53</td>\n",
       "      <td>28</td>\n",
       "      <td>9</td>\n",
       "      <td>4</td>\n",
       "      <td>44</td>\n",
       "      <td>62</td>\n",
       "      <td>7</td>\n",
       "      <td>6</td>\n",
       "      <td>...</td>\n",
       "      <td>61</td>\n",
       "      <td>77</td>\n",
       "      <td>41</td>\n",
       "      <td>10</td>\n",
       "      <td>1</td>\n",
       "      <td>59</td>\n",
       "      <td>67</td>\n",
       "      <td>66</td>\n",
       "      <td>42</td>\n",
       "      <td>35</td>\n",
       "    </tr>\n",
       "    <tr>\n",
       "      <th>15</th>\n",
       "      <td>67</td>\n",
       "      <td>40</td>\n",
       "      <td>76</td>\n",
       "      <td>56</td>\n",
       "      <td>82</td>\n",
       "      <td>36</td>\n",
       "      <td>99</td>\n",
       "      <td>14</td>\n",
       "      <td>37</td>\n",
       "      <td>88</td>\n",
       "      <td>...</td>\n",
       "      <td>6</td>\n",
       "      <td>10</td>\n",
       "      <td>16</td>\n",
       "      <td>16</td>\n",
       "      <td>98</td>\n",
       "      <td>7</td>\n",
       "      <td>34</td>\n",
       "      <td>98</td>\n",
       "      <td>56</td>\n",
       "      <td>29</td>\n",
       "    </tr>\n",
       "    <tr>\n",
       "      <th>16</th>\n",
       "      <td>64</td>\n",
       "      <td>72</td>\n",
       "      <td>66</td>\n",
       "      <td>81</td>\n",
       "      <td>77</td>\n",
       "      <td>28</td>\n",
       "      <td>59</td>\n",
       "      <td>72</td>\n",
       "      <td>22</td>\n",
       "      <td>73</td>\n",
       "      <td>...</td>\n",
       "      <td>58</td>\n",
       "      <td>32</td>\n",
       "      <td>13</td>\n",
       "      <td>94</td>\n",
       "      <td>82</td>\n",
       "      <td>52</td>\n",
       "      <td>40</td>\n",
       "      <td>95</td>\n",
       "      <td>62</td>\n",
       "      <td>5</td>\n",
       "    </tr>\n",
       "    <tr>\n",
       "      <th>17</th>\n",
       "      <td>30</td>\n",
       "      <td>73</td>\n",
       "      <td>95</td>\n",
       "      <td>40</td>\n",
       "      <td>16</td>\n",
       "      <td>23</td>\n",
       "      <td>2</td>\n",
       "      <td>1</td>\n",
       "      <td>94</td>\n",
       "      <td>46</td>\n",
       "      <td>...</td>\n",
       "      <td>98</td>\n",
       "      <td>55</td>\n",
       "      <td>50</td>\n",
       "      <td>99</td>\n",
       "      <td>81</td>\n",
       "      <td>75</td>\n",
       "      <td>49</td>\n",
       "      <td>60</td>\n",
       "      <td>84</td>\n",
       "      <td>2</td>\n",
       "    </tr>\n",
       "    <tr>\n",
       "      <th>18</th>\n",
       "      <td>80</td>\n",
       "      <td>84</td>\n",
       "      <td>65</td>\n",
       "      <td>51</td>\n",
       "      <td>56</td>\n",
       "      <td>84</td>\n",
       "      <td>38</td>\n",
       "      <td>32</td>\n",
       "      <td>21</td>\n",
       "      <td>48</td>\n",
       "      <td>...</td>\n",
       "      <td>52</td>\n",
       "      <td>91</td>\n",
       "      <td>8</td>\n",
       "      <td>73</td>\n",
       "      <td>32</td>\n",
       "      <td>42</td>\n",
       "      <td>73</td>\n",
       "      <td>34</td>\n",
       "      <td>99</td>\n",
       "      <td>49</td>\n",
       "    </tr>\n",
       "    <tr>\n",
       "      <th>19</th>\n",
       "      <td>57</td>\n",
       "      <td>96</td>\n",
       "      <td>34</td>\n",
       "      <td>34</td>\n",
       "      <td>59</td>\n",
       "      <td>37</td>\n",
       "      <td>35</td>\n",
       "      <td>97</td>\n",
       "      <td>17</td>\n",
       "      <td>75</td>\n",
       "      <td>...</td>\n",
       "      <td>16</td>\n",
       "      <td>82</td>\n",
       "      <td>15</td>\n",
       "      <td>12</td>\n",
       "      <td>76</td>\n",
       "      <td>97</td>\n",
       "      <td>69</td>\n",
       "      <td>68</td>\n",
       "      <td>5</td>\n",
       "      <td>74</td>\n",
       "    </tr>\n",
       "  </tbody>\n",
       "</table>\n",
       "<p>20 rows × 26 columns</p>\n",
       "</div>"
      ],
      "text/plain": [
       "     a   b   c   d   e   f   g   h   i   j  ...   q   r   s   t   u   v   w  \\\n",
       "0   14  67  88  67  14  87  34   7  35  42  ...  99   1  19  28  69  89  54   \n",
       "1   71  26  16  94  43   2  82  65  72  97  ...   8   5  96  24  63  39  72   \n",
       "2   35  82  58  61  83  38  48  29  25  78  ...  45  50  24  22  89  30  97   \n",
       "3    1   8  24  13  72  81  79  35  56   4  ...  53  85  21  76  28  88  14   \n",
       "4   68  30  97  99  18  10  88  31  69  31  ...  46  34  27  59  61   4  43   \n",
       "5   40   9  64  26  39  31  31  68  40  95  ...  37  18  84  95  87  68  62   \n",
       "6    7  39  87  90  15  24   5  34  66  13  ...  18  38   4  75   4  96  79   \n",
       "7   55  61  37  98   3  25  76  17  82  94  ...  70  11  14   4  39  20   1   \n",
       "8   82   6  32   9  35  19  80  38  18  15  ...  82  61  25  65  26  47   2   \n",
       "9   85  81  27  50  13  41  37  56  42  66  ...   7  25  30  45  57  92  23   \n",
       "10   9  94  62  42  68  70  42  94  90  86  ...  36  67  45   6  93   6  76   \n",
       "11  20  22  47  20  25  91  83  77  51  98  ...  12  72  28  92  60  80   5   \n",
       "12  58  21  36  77  76   5  26  46  13  11  ...   5  64  87  87  20  31  24   \n",
       "13  37  43  91  64  85  98  74  99  87  27  ...  47  99  83  42  47  43  57   \n",
       "14  99  99  53  28   9   4  44  62   7   6  ...  61  77  41  10   1  59  67   \n",
       "15  67  40  76  56  82  36  99  14  37  88  ...   6  10  16  16  98   7  34   \n",
       "16  64  72  66  81  77  28  59  72  22  73  ...  58  32  13  94  82  52  40   \n",
       "17  30  73  95  40  16  23   2   1  94  46  ...  98  55  50  99  81  75  49   \n",
       "18  80  84  65  51  56  84  38  32  21  48  ...  52  91   8  73  32  42  73   \n",
       "19  57  96  34  34  59  37  35  97  17  75  ...  16  82  15  12  76  97  69   \n",
       "\n",
       "     x   y   z  \n",
       "0   40  17  36  \n",
       "1   32  29  23  \n",
       "2   10  76  33  \n",
       "3   76  46  53  \n",
       "4   45  35  31  \n",
       "5   86  44  81  \n",
       "6   91  32  95  \n",
       "7   48   1  68  \n",
       "8   19  66  30  \n",
       "9   42  40  50  \n",
       "10  81  22  56  \n",
       "11  22  52  46  \n",
       "12  57  68  70  \n",
       "13  28  24  28  \n",
       "14  66  42  35  \n",
       "15  98  56  29  \n",
       "16  95  62   5  \n",
       "17  60  84   2  \n",
       "18  34  99  49  \n",
       "19  68   5  74  \n",
       "\n",
       "[20 rows x 26 columns]"
      ]
     },
     "execution_count": 30,
     "metadata": {},
     "output_type": "execute_result"
    }
   ],
   "source": [
    "import pandas as pd\n",
    "import random\n",
    "\n",
    "col_names = 'abcdefghijklmnopqrstuvwxyz'\n",
    "\n",
    "data = {c:random.sample(range(1,100),20) for c in col_names}\n",
    "\n",
    "\n",
    "pd.DataFrame(data)"
   ]
  },
  {
   "cell_type": "markdown",
   "metadata": {},
   "source": [
    "### key takeaway list and dictionary comprehension"
   ]
  },
  {
   "cell_type": "markdown",
   "metadata": {},
   "source": [
    "List = [**item_expression** for **item** in **iterable** (if conditional)]\n",
    "\n",
    "Dictionary = {**key_expression** : **value_expression** for **key, value** in **iterable (if conditional)**}"
   ]
  },
  {
   "cell_type": "code",
   "execution_count": null,
   "metadata": {},
   "outputs": [],
   "source": []
  }
 ],
 "metadata": {
  "kernelspec": {
   "display_name": "Python 3",
   "language": "python",
   "name": "python3"
  },
  "language_info": {
   "codemirror_mode": {
    "name": "ipython",
    "version": 3
   },
   "file_extension": ".py",
   "mimetype": "text/x-python",
   "name": "python",
   "nbconvert_exporter": "python",
   "pygments_lexer": "ipython3",
   "version": "3.8.8"
  }
 },
 "nbformat": 4,
 "nbformat_minor": 4
}
