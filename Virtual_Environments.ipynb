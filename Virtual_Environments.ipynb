{
 "cells": [
  {
   "cell_type": "markdown",
   "metadata": {},
   "source": [
    "## Virtual Environments"
   ]
  },
  {
   "cell_type": "markdown",
   "metadata": {},
   "source": [
    "**! You want individual environments for each project**\n",
    "\n",
    "To set up a new environment open your terminal and use the following commands:"
   ]
  },
  {
   "cell_type": "markdown",
   "metadata": {},
   "source": [
    "### Commands\n",
    "\n",
    "- conda create -- name\n",
    "---\n",
    "    this is how you create a new environment and name it\n",
    "\n",
    "- conda env list\n",
    "---\n",
    "with this you can see all the environments you already have\n",
    "\n",
    "- conda activate 'environment name'\n",
    "---\n",
    "activate the environment you want to use \n",
    "in the terminal you will see the current environment in the ()\n",
    "default is (base)\n",
    "\n",
    "- conda install -c\n",
    "---\n",
    "installing new packages\n",
    "try using the same provider for all packages in 1 environment\n",
    "\n",
    "- conda deactivate\n",
    "---\n",
    "with this you go back to your base environment"
   ]
  },
  {
   "cell_type": "markdown",
   "metadata": {},
   "source": [
    "**! Remember: you NEED to install all packages new to a new environment !**\n",
    "\n",
    "for examples jupyter notebook, pandas, numpy, etc"
   ]
  }
 ],
 "metadata": {
  "kernelspec": {
   "display_name": "Python 3",
   "language": "python",
   "name": "python3"
  },
  "language_info": {
   "codemirror_mode": {
    "name": "ipython",
    "version": 3
   },
   "file_extension": ".py",
   "mimetype": "text/x-python",
   "name": "python",
   "nbconvert_exporter": "python",
   "pygments_lexer": "ipython3",
   "version": "3.8.5"
  }
 },
 "nbformat": 4,
 "nbformat_minor": 4
}
