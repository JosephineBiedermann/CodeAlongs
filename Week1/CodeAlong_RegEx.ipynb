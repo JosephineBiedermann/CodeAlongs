{
 "cells": [
  {
   "cell_type": "markdown",
   "metadata": {},
   "source": [
    "# Regex (regular expressions)\n",
    "\n",
    "https://docs.python.org/3/library/re.html\n",
    "\n",
    "Regular expressions provide a flexible way to search or match (often more complex)\n",
    "string patterns in text. A single expression, commonly called a regex, is a string\n",
    "formed according to the regular expression language. Python’s built-in re module is\n",
    "responsible for applying regular expressions to strings\n",
    "\n",
    "**Functions:**\n",
    "\n",
    "- `findall`\tReturns a list containing all matches\n",
    "- `search`\tReturns a Match object if there is a match anywhere in the string. If there is more than one match, only the first occurrence of the match will be returned.\n",
    "- `split`\tReturns a list where the string has been split at each match\n",
    "- `sub`\tReplaces one or many matches with a string\n",
    "\n",
    "**The Match object** has properties and methods used to retrieve information about the search, and the result:\n",
    "\n",
    "- `.span()` returns a tuple containing the start-, and end positions of the match.\n",
    "- `.string` returns the string passed into the function\n",
    "- `.group()` returns the part of the string where there was a match\n",
    "\n",
    "Cheat sheet\n",
    "https://cheatography.com/davechild/cheat-sheets/regular-expressions/\n",
    "<br>\n",
    "Tester: https://regex101.com"
   ]
  },
  {
   "cell_type": "code",
   "execution_count": 1,
   "metadata": {},
   "outputs": [],
   "source": [
    "import re"
   ]
  },
  {
   "cell_type": "markdown",
   "metadata": {},
   "source": [
    "## findall\n",
    "re.findall()"
   ]
  },
  {
   "cell_type": "code",
   "execution_count": 2,
   "metadata": {},
   "outputs": [],
   "source": [
    "alphanumeric = \"4298fsfsDFGHv012rvv21v9\"\n",
    "\n",
    "#varible with mixture of letters and numbers"
   ]
  },
  {
   "cell_type": "code",
   "execution_count": 9,
   "metadata": {},
   "outputs": [
    {
     "data": {
      "text/plain": [
       "['f', 's', 'f', 's', 'D', 'F', 'G', 'H', 'v', 'r', 'v', 'v', 'v']"
      ]
     },
     "execution_count": 9,
     "metadata": {},
     "output_type": "execute_result"
    }
   ],
   "source": [
    "re.findall(\"[A-z]\", alphanumeric)\n",
    "\n",
    "#we use findall to pull out all letters (lower and upper case) in variable alphanumeric"
   ]
  },
  {
   "cell_type": "code",
   "execution_count": 4,
   "metadata": {},
   "outputs": [],
   "source": [
    "text = \"Sian sian@google.com\"\n",
    "pattern = r'[A-Z0-9._%+-]+@[A-Z0-9.-]+\\.[A-Z]{2,4}'\n",
    "\n",
    "# pattern = looking for a-z letters and all numbers 0-9 also special character\n",
    "# we must have an @sign and must have after that certain letter/Signs and we need a dot with either 2-3 (.com/.de)\n",
    "\n",
    "#findall using a known pattern can be used to pull pertinent information out of a text value"
   ]
  },
  {
   "cell_type": "code",
   "execution_count": 7,
   "metadata": {},
   "outputs": [
    {
     "data": {
      "text/plain": [
       "['sian@google.com']"
      ]
     },
     "execution_count": 7,
     "metadata": {},
     "output_type": "execute_result"
    }
   ],
   "source": [
    "regex = re.compile(pattern, flags=re.IGNORECASE) #ignore the case of A-Z\n",
    "regex.findall(text)\n",
    "\n",
    "#we defined a text\n",
    "#we defined the pattern\n",
    "#we define a new variable in that we use re.compile(pattern) on the pattern\n",
    "#no we apply findall function on text with pattern in new variable\n",
    "#dont need the re.findall because its already in the variable with the re.compile"
   ]
  },
  {
   "cell_type": "code",
   "execution_count": 11,
   "metadata": {},
   "outputs": [],
   "source": [
    "my_string = \"Kosta likes climbing. Kosta is a great TA so he also loves data\""
   ]
  },
  {
   "cell_type": "code",
   "execution_count": 12,
   "metadata": {},
   "outputs": [
    {
     "data": {
      "text/plain": [
       "['Kosta ', 'Kosta ']"
      ]
     },
     "execution_count": 12,
     "metadata": {},
     "output_type": "execute_result"
    }
   ],
   "source": [
    "# return all occurrances of 'Kosta' using re.findall()\n",
    "\n",
    "re.findall(\"Kosta \", my_string)\n",
    "\n",
    "#be aware of the space after the word to find it in a text"
   ]
  },
  {
   "cell_type": "markdown",
   "metadata": {},
   "source": [
    "## substitue/replace\n",
    "re.sub()"
   ]
  },
  {
   "cell_type": "code",
   "execution_count": 14,
   "metadata": {},
   "outputs": [
    {
     "data": {
      "text/plain": [
       "'Kosta likes climbing. Kosta is a great Triceratops Alligator so he also loves data'"
      ]
     },
     "execution_count": 14,
     "metadata": {},
     "output_type": "execute_result"
    }
   ],
   "source": [
    "# use re.sub() to replace \"TA\" by \"Triceratops Alligator\"\n",
    "\n",
    "my_string = re.sub(\"TA\", \"Triceratops Alligator\", my_string)\n",
    "my_string"
   ]
  },
  {
   "cell_type": "markdown",
   "metadata": {},
   "source": [
    "## search\n",
    "re.search()"
   ]
  },
  {
   "cell_type": "code",
   "execution_count": 15,
   "metadata": {},
   "outputs": [
    {
     "name": "stdout",
     "output_type": "stream",
     "text": [
      "<re.Match object; span=(73, 76), match='ove'>\n"
     ]
    }
   ],
   "source": [
    "x = re.search(\"ove\", my_string)\n",
    "print(x)"
   ]
  },
  {
   "cell_type": "code",
   "execution_count": 16,
   "metadata": {},
   "outputs": [
    {
     "name": "stdout",
     "output_type": "stream",
     "text": [
      "(39, 50)\n"
     ]
    }
   ],
   "source": [
    "x = re.search(r\"\\bT\\w+\", my_string)\n",
    "print(x.span())\n",
    "\n",
    "#capital T after a non character followed by more than one any alphanumeric\n",
    "#output gives us the position of request"
   ]
  },
  {
   "cell_type": "code",
   "execution_count": 17,
   "metadata": {},
   "outputs": [
    {
     "name": "stdout",
     "output_type": "stream",
     "text": [
      "Triceratops\n"
     ]
    }
   ],
   "source": [
    "print(x.group())\n",
    "\n",
    "#we look for x and print the group after thing we looked for (T) before"
   ]
  },
  {
   "cell_type": "markdown",
   "metadata": {},
   "source": [
    "## split\n",
    "re.split()"
   ]
  },
  {
   "cell_type": "code",
   "execution_count": 18,
   "metadata": {},
   "outputs": [],
   "source": [
    "multiples= \"ear       hand  foot knee\""
   ]
  },
  {
   "cell_type": "code",
   "execution_count": 19,
   "metadata": {},
   "outputs": [
    {
     "data": {
      "text/plain": [
       "['ear', 'hand', 'foot', 'knee']"
      ]
     },
     "execution_count": 19,
     "metadata": {},
     "output_type": "execute_result"
    }
   ],
   "source": [
    "#use split with \\s+ to comile and then split the passed text around the spaces\n",
    "re.split('\\s+', multiples)"
   ]
  },
  {
   "cell_type": "code",
   "execution_count": null,
   "metadata": {},
   "outputs": [],
   "source": []
  },
  {
   "cell_type": "code",
   "execution_count": null,
   "metadata": {},
   "outputs": [],
   "source": []
  },
  {
   "cell_type": "code",
   "execution_count": null,
   "metadata": {},
   "outputs": [],
   "source": []
  }
 ],
 "metadata": {
  "kernelspec": {
   "display_name": "Python 3",
   "language": "python",
   "name": "python3"
  },
  "language_info": {
   "codemirror_mode": {
    "name": "ipython",
    "version": 3
   },
   "file_extension": ".py",
   "mimetype": "text/x-python",
   "name": "python",
   "nbconvert_exporter": "python",
   "pygments_lexer": "ipython3",
   "version": "3.8.5"
  }
 },
 "nbformat": 4,
 "nbformat_minor": 4
}
