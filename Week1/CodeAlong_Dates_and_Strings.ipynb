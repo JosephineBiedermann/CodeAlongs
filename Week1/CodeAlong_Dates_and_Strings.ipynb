{
 "cells": [
  {
   "cell_type": "markdown",
   "metadata": {},
   "source": [
    "# Dates and Strings\n",
    "\n",
    "Working with datetime format\n",
    "<br>\n",
    "Standardizing input \n",
    "<br>\n",
    "Using string functions"
   ]
  },
  {
   "cell_type": "code",
   "execution_count": 2,
   "metadata": {},
   "outputs": [],
   "source": [
    "import pandas as pd"
   ]
  },
  {
   "cell_type": "code",
   "execution_count": 1,
   "metadata": {},
   "outputs": [],
   "source": [
    "import numpy as np"
   ]
  },
  {
   "cell_type": "markdown",
   "metadata": {},
   "source": [
    "# Dates \n",
    "#### to work with dates, we need a data set that contains dates"
   ]
  },
  {
   "cell_type": "code",
   "execution_count": 3,
   "metadata": {},
   "outputs": [
    {
     "data": {
      "text/plain": [
       "web_id           int64\n",
       "client_id        int64\n",
       "visitor_id      object\n",
       "visit_id        object\n",
       "process_step    object\n",
       "date_time       object\n",
       "dtype: object"
      ]
     },
     "execution_count": 3,
     "metadata": {},
     "output_type": "execute_result"
    }
   ],
   "source": [
    "#import the data set we got from Sian\n",
    "\n",
    "file = pd.read_csv('web_data.csv')\n",
    "file.dtypes #to see if it worked\n",
    "\n",
    "#we see that the date time needs to be converted from object (categorical) to numerical\n",
    "# if we want to usse"
   ]
  },
  {
   "cell_type": "code",
   "execution_count": 6,
   "metadata": {},
   "outputs": [
    {
     "data": {
      "text/html": [
       "<div>\n",
       "<style scoped>\n",
       "    .dataframe tbody tr th:only-of-type {\n",
       "        vertical-align: middle;\n",
       "    }\n",
       "\n",
       "    .dataframe tbody tr th {\n",
       "        vertical-align: top;\n",
       "    }\n",
       "\n",
       "    .dataframe thead th {\n",
       "        text-align: right;\n",
       "    }\n",
       "</style>\n",
       "<table border=\"1\" class=\"dataframe\">\n",
       "  <thead>\n",
       "    <tr style=\"text-align: right;\">\n",
       "      <th></th>\n",
       "      <th>web_id</th>\n",
       "      <th>client_id</th>\n",
       "      <th>visitor_id</th>\n",
       "      <th>visit_id</th>\n",
       "      <th>process_step</th>\n",
       "      <th>date_time</th>\n",
       "    </tr>\n",
       "  </thead>\n",
       "  <tbody>\n",
       "    <tr>\n",
       "      <th>0</th>\n",
       "      <td>0</td>\n",
       "      <td>9988021</td>\n",
       "      <td>580560515_7732621733</td>\n",
       "      <td>781255054_21935453173_531117</td>\n",
       "      <td>step_3</td>\n",
       "      <td>2017-04-17 15:27:00</td>\n",
       "    </tr>\n",
       "    <tr>\n",
       "      <th>1</th>\n",
       "      <td>1</td>\n",
       "      <td>9988021</td>\n",
       "      <td>580560515_7732621733</td>\n",
       "      <td>781255054_21935453173_531117</td>\n",
       "      <td>step_2</td>\n",
       "      <td>2017-04-17 15:26:00</td>\n",
       "    </tr>\n",
       "    <tr>\n",
       "      <th>2</th>\n",
       "      <td>2</td>\n",
       "      <td>9988021</td>\n",
       "      <td>580560515_7732621733</td>\n",
       "      <td>781255054_21935453173_531117</td>\n",
       "      <td>step_3</td>\n",
       "      <td>2017-04-17 15:19:00</td>\n",
       "    </tr>\n",
       "    <tr>\n",
       "      <th>3</th>\n",
       "      <td>3</td>\n",
       "      <td>9988021</td>\n",
       "      <td>580560515_7732621733</td>\n",
       "      <td>781255054_21935453173_531117</td>\n",
       "      <td>step_2</td>\n",
       "      <td>2017-04-17 15:19:00</td>\n",
       "    </tr>\n",
       "    <tr>\n",
       "      <th>4</th>\n",
       "      <td>4</td>\n",
       "      <td>9988021</td>\n",
       "      <td>580560515_7732621733</td>\n",
       "      <td>781255054_21935453173_531117</td>\n",
       "      <td>step_3</td>\n",
       "      <td>2017-04-17 15:18:00</td>\n",
       "    </tr>\n",
       "  </tbody>\n",
       "</table>\n",
       "</div>"
      ],
      "text/plain": [
       "   web_id  client_id            visitor_id                      visit_id  \\\n",
       "0       0    9988021  580560515_7732621733  781255054_21935453173_531117   \n",
       "1       1    9988021  580560515_7732621733  781255054_21935453173_531117   \n",
       "2       2    9988021  580560515_7732621733  781255054_21935453173_531117   \n",
       "3       3    9988021  580560515_7732621733  781255054_21935453173_531117   \n",
       "4       4    9988021  580560515_7732621733  781255054_21935453173_531117   \n",
       "\n",
       "  process_step           date_time  \n",
       "0       step_3 2017-04-17 15:27:00  \n",
       "1       step_2 2017-04-17 15:26:00  \n",
       "2       step_3 2017-04-17 15:19:00  \n",
       "3       step_2 2017-04-17 15:19:00  \n",
       "4       step_3 2017-04-17 15:18:00  "
      ]
     },
     "execution_count": 6,
     "metadata": {},
     "output_type": "execute_result"
    }
   ],
   "source": [
    "file.head()"
   ]
  },
  {
   "cell_type": "markdown",
   "metadata": {},
   "source": [
    "we **parse** the date time "
   ]
  },
  {
   "cell_type": "markdown",
   "metadata": {},
   "source": [
    "#### Converting data in column to datetime data type\n",
    "pd.to_datetime() -> change to datetime data type"
   ]
  },
  {
   "cell_type": "code",
   "execution_count": 7,
   "metadata": {},
   "outputs": [
    {
     "data": {
      "text/plain": [
       "web_id                   int64\n",
       "client_id                int64\n",
       "visitor_id              object\n",
       "visit_id                object\n",
       "process_step            object\n",
       "date_time       datetime64[ns]\n",
       "dtype: object"
      ]
     },
     "execution_count": 7,
     "metadata": {},
     "output_type": "execute_result"
    }
   ],
   "source": [
    "#convert the date_time column to be read as a datetime data type \n",
    "file['date_time'] = pd.to_datetime(file['date_time'], errors='coerce')\n",
    "file.dtypes\n",
    "\n",
    "#we can see that it worked, date_time column is now datetime"
   ]
  },
  {
   "cell_type": "code",
   "execution_count": 8,
   "metadata": {},
   "outputs": [
    {
     "data": {
      "text/html": [
       "<div>\n",
       "<style scoped>\n",
       "    .dataframe tbody tr th:only-of-type {\n",
       "        vertical-align: middle;\n",
       "    }\n",
       "\n",
       "    .dataframe tbody tr th {\n",
       "        vertical-align: top;\n",
       "    }\n",
       "\n",
       "    .dataframe thead th {\n",
       "        text-align: right;\n",
       "    }\n",
       "</style>\n",
       "<table border=\"1\" class=\"dataframe\">\n",
       "  <thead>\n",
       "    <tr style=\"text-align: right;\">\n",
       "      <th></th>\n",
       "      <th>web_id</th>\n",
       "      <th>client_id</th>\n",
       "      <th>visitor_id</th>\n",
       "      <th>visit_id</th>\n",
       "      <th>process_step</th>\n",
       "      <th>date_time</th>\n",
       "    </tr>\n",
       "  </thead>\n",
       "  <tbody>\n",
       "    <tr>\n",
       "      <th>0</th>\n",
       "      <td>0</td>\n",
       "      <td>9988021</td>\n",
       "      <td>580560515_7732621733</td>\n",
       "      <td>781255054_21935453173_531117</td>\n",
       "      <td>step_3</td>\n",
       "      <td>2017-04-17 15:27:00</td>\n",
       "    </tr>\n",
       "    <tr>\n",
       "      <th>1</th>\n",
       "      <td>1</td>\n",
       "      <td>9988021</td>\n",
       "      <td>580560515_7732621733</td>\n",
       "      <td>781255054_21935453173_531117</td>\n",
       "      <td>step_2</td>\n",
       "      <td>2017-04-17 15:26:00</td>\n",
       "    </tr>\n",
       "    <tr>\n",
       "      <th>2</th>\n",
       "      <td>2</td>\n",
       "      <td>9988021</td>\n",
       "      <td>580560515_7732621733</td>\n",
       "      <td>781255054_21935453173_531117</td>\n",
       "      <td>step_3</td>\n",
       "      <td>2017-04-17 15:19:00</td>\n",
       "    </tr>\n",
       "    <tr>\n",
       "      <th>3</th>\n",
       "      <td>3</td>\n",
       "      <td>9988021</td>\n",
       "      <td>580560515_7732621733</td>\n",
       "      <td>781255054_21935453173_531117</td>\n",
       "      <td>step_2</td>\n",
       "      <td>2017-04-17 15:19:00</td>\n",
       "    </tr>\n",
       "    <tr>\n",
       "      <th>4</th>\n",
       "      <td>4</td>\n",
       "      <td>9988021</td>\n",
       "      <td>580560515_7732621733</td>\n",
       "      <td>781255054_21935453173_531117</td>\n",
       "      <td>step_3</td>\n",
       "      <td>2017-04-17 15:18:00</td>\n",
       "    </tr>\n",
       "    <tr>\n",
       "      <th>5</th>\n",
       "      <td>5</td>\n",
       "      <td>9988021</td>\n",
       "      <td>580560515_7732621733</td>\n",
       "      <td>781255054_21935453173_531117</td>\n",
       "      <td>step_2</td>\n",
       "      <td>2017-04-17 15:17:00</td>\n",
       "    </tr>\n",
       "    <tr>\n",
       "      <th>6</th>\n",
       "      <td>6</td>\n",
       "      <td>9988021</td>\n",
       "      <td>580560515_7732621733</td>\n",
       "      <td>781255054_21935453173_531117</td>\n",
       "      <td>step_1</td>\n",
       "      <td>2017-04-17 15:17:00</td>\n",
       "    </tr>\n",
       "    <tr>\n",
       "      <th>7</th>\n",
       "      <td>7</td>\n",
       "      <td>9988021</td>\n",
       "      <td>580560515_7732621733</td>\n",
       "      <td>781255054_21935453173_531117</td>\n",
       "      <td>start</td>\n",
       "      <td>2017-04-17 15:16:00</td>\n",
       "    </tr>\n",
       "    <tr>\n",
       "      <th>8</th>\n",
       "      <td>8</td>\n",
       "      <td>8320017</td>\n",
       "      <td>39393514_33118319366</td>\n",
       "      <td>960651974_70596002104_312201</td>\n",
       "      <td>confirm</td>\n",
       "      <td>2017-04-05 13:10:00</td>\n",
       "    </tr>\n",
       "    <tr>\n",
       "      <th>9</th>\n",
       "      <td>9</td>\n",
       "      <td>8320017</td>\n",
       "      <td>39393514_33118319366</td>\n",
       "      <td>960651974_70596002104_312201</td>\n",
       "      <td>step_3</td>\n",
       "      <td>2017-04-05 13:09:00</td>\n",
       "    </tr>\n",
       "    <tr>\n",
       "      <th>10</th>\n",
       "      <td>10</td>\n",
       "      <td>8320017</td>\n",
       "      <td>39393514_33118319366</td>\n",
       "      <td>960651974_70596002104_312201</td>\n",
       "      <td>step_2</td>\n",
       "      <td>2017-04-05 13:08:00</td>\n",
       "    </tr>\n",
       "    <tr>\n",
       "      <th>11</th>\n",
       "      <td>11</td>\n",
       "      <td>8320017</td>\n",
       "      <td>39393514_33118319366</td>\n",
       "      <td>960651974_70596002104_312201</td>\n",
       "      <td>step_1</td>\n",
       "      <td>2017-04-05 13:08:00</td>\n",
       "    </tr>\n",
       "  </tbody>\n",
       "</table>\n",
       "</div>"
      ],
      "text/plain": [
       "    web_id  client_id            visitor_id                      visit_id  \\\n",
       "0        0    9988021  580560515_7732621733  781255054_21935453173_531117   \n",
       "1        1    9988021  580560515_7732621733  781255054_21935453173_531117   \n",
       "2        2    9988021  580560515_7732621733  781255054_21935453173_531117   \n",
       "3        3    9988021  580560515_7732621733  781255054_21935453173_531117   \n",
       "4        4    9988021  580560515_7732621733  781255054_21935453173_531117   \n",
       "5        5    9988021  580560515_7732621733  781255054_21935453173_531117   \n",
       "6        6    9988021  580560515_7732621733  781255054_21935453173_531117   \n",
       "7        7    9988021  580560515_7732621733  781255054_21935453173_531117   \n",
       "8        8    8320017  39393514_33118319366  960651974_70596002104_312201   \n",
       "9        9    8320017  39393514_33118319366  960651974_70596002104_312201   \n",
       "10      10    8320017  39393514_33118319366  960651974_70596002104_312201   \n",
       "11      11    8320017  39393514_33118319366  960651974_70596002104_312201   \n",
       "\n",
       "   process_step           date_time  \n",
       "0        step_3 2017-04-17 15:27:00  \n",
       "1        step_2 2017-04-17 15:26:00  \n",
       "2        step_3 2017-04-17 15:19:00  \n",
       "3        step_2 2017-04-17 15:19:00  \n",
       "4        step_3 2017-04-17 15:18:00  \n",
       "5        step_2 2017-04-17 15:17:00  \n",
       "6        step_1 2017-04-17 15:17:00  \n",
       "7         start 2017-04-17 15:16:00  \n",
       "8       confirm 2017-04-05 13:10:00  \n",
       "9        step_3 2017-04-05 13:09:00  \n",
       "10       step_2 2017-04-05 13:08:00  \n",
       "11       step_1 2017-04-05 13:08:00  "
      ]
     },
     "execution_count": 8,
     "metadata": {},
     "output_type": "execute_result"
    }
   ],
   "source": [
    "#use head() to review the first 12 rows of the file\n",
    "file.head(12)"
   ]
  },
  {
   "cell_type": "code",
   "execution_count": 9,
   "metadata": {},
   "outputs": [
    {
     "data": {
      "text/plain": [
       "2017"
      ]
     },
     "execution_count": 9,
     "metadata": {},
     "output_type": "execute_result"
    }
   ],
   "source": [
    "#use the day month year and index to check the month and day of the first row\n",
    "#eg file['date_time'][0].year\n",
    "\n",
    "file['date_time'][0].year\n",
    "\n",
    "#shows us the year of the first row"
   ]
  },
  {
   "cell_type": "code",
   "execution_count": 12,
   "metadata": {},
   "outputs": [
    {
     "data": {
      "text/plain": [
       "4"
      ]
     },
     "execution_count": 12,
     "metadata": {},
     "output_type": "execute_result"
    }
   ],
   "source": [
    "file['date_time'][0].month\n",
    "\n",
    "#shows us the month of the first row"
   ]
  },
  {
   "cell_type": "code",
   "execution_count": 13,
   "metadata": {},
   "outputs": [
    {
     "data": {
      "text/plain": [
       "17"
      ]
     },
     "execution_count": 13,
     "metadata": {},
     "output_type": "execute_result"
    }
   ],
   "source": [
    "file['date_time'][0].day\n",
    "\n",
    "#shows us the day of the first row"
   ]
  },
  {
   "cell_type": "code",
   "execution_count": 14,
   "metadata": {},
   "outputs": [
    {
     "data": {
      "text/plain": [
       "datetime.time(15, 27)"
      ]
     },
     "execution_count": 14,
     "metadata": {},
     "output_type": "execute_result"
    }
   ],
   "source": [
    "file['date_time'][0].time()\n",
    "\n",
    "#shows us the time of the first row\n",
    "# !!! we need the () becasue the time is in an array"
   ]
  },
  {
   "cell_type": "code",
   "execution_count": 15,
   "metadata": {},
   "outputs": [
    {
     "data": {
      "text/plain": [
       "15"
      ]
     },
     "execution_count": 15,
     "metadata": {},
     "output_type": "execute_result"
    }
   ],
   "source": [
    "file['date_time'][0].hour\n",
    "\n",
    "#shows us the hour of the first row"
   ]
  },
  {
   "cell_type": "code",
   "execution_count": 17,
   "metadata": {},
   "outputs": [
    {
     "data": {
      "text/plain": [
       "27"
      ]
     },
     "execution_count": 17,
     "metadata": {},
     "output_type": "execute_result"
    }
   ],
   "source": [
    "file['date_time'][0].minute\n",
    "\n",
    "#shows us the minute of the first row"
   ]
  },
  {
   "cell_type": "code",
   "execution_count": 18,
   "metadata": {},
   "outputs": [
    {
     "data": {
      "text/plain": [
       "0"
      ]
     },
     "execution_count": 18,
     "metadata": {},
     "output_type": "execute_result"
    }
   ],
   "source": [
    "file['date_time'][0].second\n",
    "\n",
    "#shows us the second of the first row"
   ]
  },
  {
   "cell_type": "code",
   "execution_count": 16,
   "metadata": {},
   "outputs": [
    {
     "data": {
      "text/plain": [
       "Timestamp('1677-09-21 00:12:43.145225')"
      ]
     },
     "execution_count": 16,
     "metadata": {},
     "output_type": "execute_result"
    }
   ],
   "source": [
    "file['date_time'][0].min #i wanted the minutes, but got the oldest date"
   ]
  },
  {
   "cell_type": "markdown",
   "metadata": {},
   "source": [
    "#### Reformat the dates"
   ]
  },
  {
   "cell_type": "code",
   "execution_count": null,
   "metadata": {},
   "outputs": [],
   "source": [
    "#example 1\n",
    "file['date_time'][0].strftime(format='%d-%m-%Y')\n",
    "\n",
    "#we switch it to day, month, year just in row 1\n",
    "# the - ('%d-%M-%Y') in between make it with -\n",
    "\n",
    "#if we want to do it for the whole column\n",
    "file['date_time'] = file['date_time'].strftime(format='%d-%M-%Y')"
   ]
  },
  {
   "cell_type": "code",
   "execution_count": null,
   "metadata": {},
   "outputs": [],
   "source": [
    "#example 2\n",
    "file['date_time'][0].strftime(format=\"%A %d. %B %Y\")\n",
    "\n",
    "#we switch it to weekday name, day of month, full month name, year\n",
    "#as we have spaces between (\"%A %d. %B %Y\"), it will be with spaces between"
   ]
  },
  {
   "cell_type": "markdown",
   "metadata": {},
   "source": [
    "https://docs.python.org/3/library/time.html\n",
    "\n",
    "Directive and their Meaning\n",
    "\n",
    "%a Locale’s abbreviated weekday name.\n",
    "%A Locale’s full weekday name.\n",
    "%b Locale’s abbreviated month name.\n",
    "%B Locale’s full month name.\n",
    "%c Locale’s appropriate date and time representation.\n",
    "%d Day of the month as a decimal number [01,31].\n",
    "%H Hour (24-hour clock) as a decimal number [00,23].\n",
    "%I Hour (12-hour clock) as a decimal number [01,12].\n",
    "%j Day of the year as a decimal number [001,366].\n",
    "%m Month as a decimal number [01,12].\n",
    "%M Minute as a decimal number [00,59].\n",
    "%p Locale’s equivalent of either AM or PM.\n",
    "%S Second as a decimal number [00,61].\n",
    "%U Week number of the year (Sunday as the first day of the week) as a decimal number [00,53]. All days in a new year preceding the first Sunday are considered to be in week 0.\n",
    "%w Weekday as a decimal number [0(Sunday),6].\n",
    "%W Week number of the year (Monday as the first day of the week) as a decimal number [00,53]. All days in a new year preceding the first Monday are considered to be in week 0\n",
    "%x Locale’s appropriate date representation.\n",
    "%X Locale’s appropriate time representation.\n",
    "%y Year without century as a decimal number [00,99].\n",
    "%Y Year with century as a decimal number.\n",
    "%z Time zone offset indicating a positive or negative time difference from UTC/GMT of the form +HHMM or -HHMM, where H represents decimal hour digits and M represents decimal minute digits [-23:59, +23:59].\n",
    "%Z Time zone name (no characters if no time zone exists).\n",
    "%% A literal '%' character."
   ]
  },
  {
   "cell_type": "markdown",
   "metadata": {},
   "source": [
    "#### Filters"
   ]
  },
  {
   "cell_type": "code",
   "execution_count": 20,
   "metadata": {
    "scrolled": true
   },
   "outputs": [
    {
     "data": {
      "text/html": [
       "<div>\n",
       "<style scoped>\n",
       "    .dataframe tbody tr th:only-of-type {\n",
       "        vertical-align: middle;\n",
       "    }\n",
       "\n",
       "    .dataframe tbody tr th {\n",
       "        vertical-align: top;\n",
       "    }\n",
       "\n",
       "    .dataframe thead th {\n",
       "        text-align: right;\n",
       "    }\n",
       "</style>\n",
       "<table border=\"1\" class=\"dataframe\">\n",
       "  <thead>\n",
       "    <tr style=\"text-align: right;\">\n",
       "      <th></th>\n",
       "      <th>web_id</th>\n",
       "      <th>client_id</th>\n",
       "      <th>visitor_id</th>\n",
       "      <th>visit_id</th>\n",
       "      <th>process_step</th>\n",
       "      <th>date_time</th>\n",
       "    </tr>\n",
       "  </thead>\n",
       "  <tbody>\n",
       "    <tr>\n",
       "      <th>15403</th>\n",
       "      <td>15403</td>\n",
       "      <td>9088919</td>\n",
       "      <td>594492611_13177416992</td>\n",
       "      <td>373345047_76916836421_363244</td>\n",
       "      <td>confirm</td>\n",
       "      <td>2017-04-05</td>\n",
       "    </tr>\n",
       "    <tr>\n",
       "      <th>97905</th>\n",
       "      <td>97905</td>\n",
       "      <td>5171878</td>\n",
       "      <td>88910480_73022518291</td>\n",
       "      <td>390443893_82608504306_269</td>\n",
       "      <td>start</td>\n",
       "      <td>2017-04-05</td>\n",
       "    </tr>\n",
       "    <tr>\n",
       "      <th>97906</th>\n",
       "      <td>97906</td>\n",
       "      <td>5171878</td>\n",
       "      <td>88910480_73022518291</td>\n",
       "      <td>390443893_82608504306_269</td>\n",
       "      <td>start</td>\n",
       "      <td>2017-04-05</td>\n",
       "    </tr>\n",
       "    <tr>\n",
       "      <th>292632</th>\n",
       "      <td>292632</td>\n",
       "      <td>1839329</td>\n",
       "      <td>674533465_6091016367</td>\n",
       "      <td>167956133_23637791586_417756</td>\n",
       "      <td>confirm</td>\n",
       "      <td>2017-04-05</td>\n",
       "    </tr>\n",
       "    <tr>\n",
       "      <th>296638</th>\n",
       "      <td>296638</td>\n",
       "      <td>8367317</td>\n",
       "      <td>541357206_53611607620</td>\n",
       "      <td>445730306_83279848654_782988</td>\n",
       "      <td>step_3</td>\n",
       "      <td>2017-04-05</td>\n",
       "    </tr>\n",
       "    <tr>\n",
       "      <th>336192</th>\n",
       "      <td>336192</td>\n",
       "      <td>7662789</td>\n",
       "      <td>498118555_72033901911</td>\n",
       "      <td>717087535_63949436899_766198</td>\n",
       "      <td>step_1</td>\n",
       "      <td>2017-04-05</td>\n",
       "    </tr>\n",
       "    <tr>\n",
       "      <th>336193</th>\n",
       "      <td>336193</td>\n",
       "      <td>7662789</td>\n",
       "      <td>498118555_72033901911</td>\n",
       "      <td>717087535_63949436899_766198</td>\n",
       "      <td>start</td>\n",
       "      <td>2017-04-05</td>\n",
       "    </tr>\n",
       "    <tr>\n",
       "      <th>336194</th>\n",
       "      <td>336194</td>\n",
       "      <td>7662789</td>\n",
       "      <td>498118555_72033901911</td>\n",
       "      <td>717087535_63949436899_766198</td>\n",
       "      <td>start</td>\n",
       "      <td>2017-04-05</td>\n",
       "    </tr>\n",
       "  </tbody>\n",
       "</table>\n",
       "</div>"
      ],
      "text/plain": [
       "        web_id  client_id             visitor_id  \\\n",
       "15403    15403    9088919  594492611_13177416992   \n",
       "97905    97905    5171878   88910480_73022518291   \n",
       "97906    97906    5171878   88910480_73022518291   \n",
       "292632  292632    1839329   674533465_6091016367   \n",
       "296638  296638    8367317  541357206_53611607620   \n",
       "336192  336192    7662789  498118555_72033901911   \n",
       "336193  336193    7662789  498118555_72033901911   \n",
       "336194  336194    7662789  498118555_72033901911   \n",
       "\n",
       "                            visit_id process_step  date_time  \n",
       "15403   373345047_76916836421_363244      confirm 2017-04-05  \n",
       "97905      390443893_82608504306_269        start 2017-04-05  \n",
       "97906      390443893_82608504306_269        start 2017-04-05  \n",
       "292632  167956133_23637791586_417756      confirm 2017-04-05  \n",
       "296638  445730306_83279848654_782988       step_3 2017-04-05  \n",
       "336192  717087535_63949436899_766198       step_1 2017-04-05  \n",
       "336193  717087535_63949436899_766198        start 2017-04-05  \n",
       "336194  717087535_63949436899_766198        start 2017-04-05  "
      ]
     },
     "execution_count": 20,
     "metadata": {},
     "output_type": "execute_result"
    }
   ],
   "source": [
    "#create a filtered data frame by a particular date \n",
    "Apr_5 = file[file['date_time'] == '2017-04-05']\n",
    "Apr_5\n",
    "\n",
    "#every datet time is 2017-04-05"
   ]
  },
  {
   "cell_type": "markdown",
   "metadata": {},
   "source": [
    "#### using pd.DatetimeIndex(file['date_time']).month"
   ]
  },
  {
   "cell_type": "code",
   "execution_count": 23,
   "metadata": {},
   "outputs": [
    {
     "data": {
      "text/html": [
       "<div>\n",
       "<style scoped>\n",
       "    .dataframe tbody tr th:only-of-type {\n",
       "        vertical-align: middle;\n",
       "    }\n",
       "\n",
       "    .dataframe tbody tr th {\n",
       "        vertical-align: top;\n",
       "    }\n",
       "\n",
       "    .dataframe thead th {\n",
       "        text-align: right;\n",
       "    }\n",
       "</style>\n",
       "<table border=\"1\" class=\"dataframe\">\n",
       "  <thead>\n",
       "    <tr style=\"text-align: right;\">\n",
       "      <th></th>\n",
       "      <th>web_id</th>\n",
       "      <th>client_id</th>\n",
       "      <th>visitor_id</th>\n",
       "      <th>visit_id</th>\n",
       "      <th>process_step</th>\n",
       "      <th>date_time</th>\n",
       "      <th>Month</th>\n",
       "      <th>Day</th>\n",
       "    </tr>\n",
       "  </thead>\n",
       "  <tbody>\n",
       "    <tr>\n",
       "      <th>0</th>\n",
       "      <td>0</td>\n",
       "      <td>9988021</td>\n",
       "      <td>580560515_7732621733</td>\n",
       "      <td>781255054_21935453173_531117</td>\n",
       "      <td>step_3</td>\n",
       "      <td>2017-04-17 15:27:00</td>\n",
       "      <td>4</td>\n",
       "      <td>17</td>\n",
       "    </tr>\n",
       "    <tr>\n",
       "      <th>1</th>\n",
       "      <td>1</td>\n",
       "      <td>9988021</td>\n",
       "      <td>580560515_7732621733</td>\n",
       "      <td>781255054_21935453173_531117</td>\n",
       "      <td>step_2</td>\n",
       "      <td>2017-04-17 15:26:00</td>\n",
       "      <td>4</td>\n",
       "      <td>17</td>\n",
       "    </tr>\n",
       "    <tr>\n",
       "      <th>2</th>\n",
       "      <td>2</td>\n",
       "      <td>9988021</td>\n",
       "      <td>580560515_7732621733</td>\n",
       "      <td>781255054_21935453173_531117</td>\n",
       "      <td>step_3</td>\n",
       "      <td>2017-04-17 15:19:00</td>\n",
       "      <td>4</td>\n",
       "      <td>17</td>\n",
       "    </tr>\n",
       "    <tr>\n",
       "      <th>3</th>\n",
       "      <td>3</td>\n",
       "      <td>9988021</td>\n",
       "      <td>580560515_7732621733</td>\n",
       "      <td>781255054_21935453173_531117</td>\n",
       "      <td>step_2</td>\n",
       "      <td>2017-04-17 15:19:00</td>\n",
       "      <td>4</td>\n",
       "      <td>17</td>\n",
       "    </tr>\n",
       "    <tr>\n",
       "      <th>4</th>\n",
       "      <td>4</td>\n",
       "      <td>9988021</td>\n",
       "      <td>580560515_7732621733</td>\n",
       "      <td>781255054_21935453173_531117</td>\n",
       "      <td>step_3</td>\n",
       "      <td>2017-04-17 15:18:00</td>\n",
       "      <td>4</td>\n",
       "      <td>17</td>\n",
       "    </tr>\n",
       "    <tr>\n",
       "      <th>5</th>\n",
       "      <td>5</td>\n",
       "      <td>9988021</td>\n",
       "      <td>580560515_7732621733</td>\n",
       "      <td>781255054_21935453173_531117</td>\n",
       "      <td>step_2</td>\n",
       "      <td>2017-04-17 15:17:00</td>\n",
       "      <td>4</td>\n",
       "      <td>17</td>\n",
       "    </tr>\n",
       "    <tr>\n",
       "      <th>6</th>\n",
       "      <td>6</td>\n",
       "      <td>9988021</td>\n",
       "      <td>580560515_7732621733</td>\n",
       "      <td>781255054_21935453173_531117</td>\n",
       "      <td>step_1</td>\n",
       "      <td>2017-04-17 15:17:00</td>\n",
       "      <td>4</td>\n",
       "      <td>17</td>\n",
       "    </tr>\n",
       "    <tr>\n",
       "      <th>7</th>\n",
       "      <td>7</td>\n",
       "      <td>9988021</td>\n",
       "      <td>580560515_7732621733</td>\n",
       "      <td>781255054_21935453173_531117</td>\n",
       "      <td>start</td>\n",
       "      <td>2017-04-17 15:16:00</td>\n",
       "      <td>4</td>\n",
       "      <td>17</td>\n",
       "    </tr>\n",
       "    <tr>\n",
       "      <th>8</th>\n",
       "      <td>8</td>\n",
       "      <td>8320017</td>\n",
       "      <td>39393514_33118319366</td>\n",
       "      <td>960651974_70596002104_312201</td>\n",
       "      <td>confirm</td>\n",
       "      <td>2017-04-05 13:10:00</td>\n",
       "      <td>4</td>\n",
       "      <td>5</td>\n",
       "    </tr>\n",
       "    <tr>\n",
       "      <th>9</th>\n",
       "      <td>9</td>\n",
       "      <td>8320017</td>\n",
       "      <td>39393514_33118319366</td>\n",
       "      <td>960651974_70596002104_312201</td>\n",
       "      <td>step_3</td>\n",
       "      <td>2017-04-05 13:09:00</td>\n",
       "      <td>4</td>\n",
       "      <td>5</td>\n",
       "    </tr>\n",
       "    <tr>\n",
       "      <th>10</th>\n",
       "      <td>10</td>\n",
       "      <td>8320017</td>\n",
       "      <td>39393514_33118319366</td>\n",
       "      <td>960651974_70596002104_312201</td>\n",
       "      <td>step_2</td>\n",
       "      <td>2017-04-05 13:08:00</td>\n",
       "      <td>4</td>\n",
       "      <td>5</td>\n",
       "    </tr>\n",
       "    <tr>\n",
       "      <th>11</th>\n",
       "      <td>11</td>\n",
       "      <td>8320017</td>\n",
       "      <td>39393514_33118319366</td>\n",
       "      <td>960651974_70596002104_312201</td>\n",
       "      <td>step_1</td>\n",
       "      <td>2017-04-05 13:08:00</td>\n",
       "      <td>4</td>\n",
       "      <td>5</td>\n",
       "    </tr>\n",
       "  </tbody>\n",
       "</table>\n",
       "</div>"
      ],
      "text/plain": [
       "    web_id  client_id            visitor_id                      visit_id  \\\n",
       "0        0    9988021  580560515_7732621733  781255054_21935453173_531117   \n",
       "1        1    9988021  580560515_7732621733  781255054_21935453173_531117   \n",
       "2        2    9988021  580560515_7732621733  781255054_21935453173_531117   \n",
       "3        3    9988021  580560515_7732621733  781255054_21935453173_531117   \n",
       "4        4    9988021  580560515_7732621733  781255054_21935453173_531117   \n",
       "5        5    9988021  580560515_7732621733  781255054_21935453173_531117   \n",
       "6        6    9988021  580560515_7732621733  781255054_21935453173_531117   \n",
       "7        7    9988021  580560515_7732621733  781255054_21935453173_531117   \n",
       "8        8    8320017  39393514_33118319366  960651974_70596002104_312201   \n",
       "9        9    8320017  39393514_33118319366  960651974_70596002104_312201   \n",
       "10      10    8320017  39393514_33118319366  960651974_70596002104_312201   \n",
       "11      11    8320017  39393514_33118319366  960651974_70596002104_312201   \n",
       "\n",
       "   process_step           date_time  Month  Day  \n",
       "0        step_3 2017-04-17 15:27:00      4   17  \n",
       "1        step_2 2017-04-17 15:26:00      4   17  \n",
       "2        step_3 2017-04-17 15:19:00      4   17  \n",
       "3        step_2 2017-04-17 15:19:00      4   17  \n",
       "4        step_3 2017-04-17 15:18:00      4   17  \n",
       "5        step_2 2017-04-17 15:17:00      4   17  \n",
       "6        step_1 2017-04-17 15:17:00      4   17  \n",
       "7         start 2017-04-17 15:16:00      4   17  \n",
       "8       confirm 2017-04-05 13:10:00      4    5  \n",
       "9        step_3 2017-04-05 13:09:00      4    5  \n",
       "10       step_2 2017-04-05 13:08:00      4    5  \n",
       "11       step_1 2017-04-05 13:08:00      4    5  "
      ]
     },
     "execution_count": 23,
     "metadata": {},
     "output_type": "execute_result"
    }
   ],
   "source": [
    "#create a new column named 'month' and add the months from column 'date_time'\n",
    "file['Month'] = pd.DatetimeIndex(file['date_time']).month\n",
    "file.head(12)"
   ]
  },
  {
   "cell_type": "code",
   "execution_count": 24,
   "metadata": {},
   "outputs": [
    {
     "data": {
      "text/html": [
       "<div>\n",
       "<style scoped>\n",
       "    .dataframe tbody tr th:only-of-type {\n",
       "        vertical-align: middle;\n",
       "    }\n",
       "\n",
       "    .dataframe tbody tr th {\n",
       "        vertical-align: top;\n",
       "    }\n",
       "\n",
       "    .dataframe thead th {\n",
       "        text-align: right;\n",
       "    }\n",
       "</style>\n",
       "<table border=\"1\" class=\"dataframe\">\n",
       "  <thead>\n",
       "    <tr style=\"text-align: right;\">\n",
       "      <th></th>\n",
       "      <th>web_id</th>\n",
       "      <th>client_id</th>\n",
       "      <th>visitor_id</th>\n",
       "      <th>visit_id</th>\n",
       "      <th>process_step</th>\n",
       "      <th>date_time</th>\n",
       "      <th>Month</th>\n",
       "      <th>Day</th>\n",
       "    </tr>\n",
       "  </thead>\n",
       "  <tbody>\n",
       "    <tr>\n",
       "      <th>0</th>\n",
       "      <td>0</td>\n",
       "      <td>9988021</td>\n",
       "      <td>580560515_7732621733</td>\n",
       "      <td>781255054_21935453173_531117</td>\n",
       "      <td>step_3</td>\n",
       "      <td>2017-04-17 15:27:00</td>\n",
       "      <td>4</td>\n",
       "      <td>17</td>\n",
       "    </tr>\n",
       "    <tr>\n",
       "      <th>1</th>\n",
       "      <td>1</td>\n",
       "      <td>9988021</td>\n",
       "      <td>580560515_7732621733</td>\n",
       "      <td>781255054_21935453173_531117</td>\n",
       "      <td>step_2</td>\n",
       "      <td>2017-04-17 15:26:00</td>\n",
       "      <td>4</td>\n",
       "      <td>17</td>\n",
       "    </tr>\n",
       "    <tr>\n",
       "      <th>2</th>\n",
       "      <td>2</td>\n",
       "      <td>9988021</td>\n",
       "      <td>580560515_7732621733</td>\n",
       "      <td>781255054_21935453173_531117</td>\n",
       "      <td>step_3</td>\n",
       "      <td>2017-04-17 15:19:00</td>\n",
       "      <td>4</td>\n",
       "      <td>17</td>\n",
       "    </tr>\n",
       "    <tr>\n",
       "      <th>3</th>\n",
       "      <td>3</td>\n",
       "      <td>9988021</td>\n",
       "      <td>580560515_7732621733</td>\n",
       "      <td>781255054_21935453173_531117</td>\n",
       "      <td>step_2</td>\n",
       "      <td>2017-04-17 15:19:00</td>\n",
       "      <td>4</td>\n",
       "      <td>17</td>\n",
       "    </tr>\n",
       "    <tr>\n",
       "      <th>4</th>\n",
       "      <td>4</td>\n",
       "      <td>9988021</td>\n",
       "      <td>580560515_7732621733</td>\n",
       "      <td>781255054_21935453173_531117</td>\n",
       "      <td>step_3</td>\n",
       "      <td>2017-04-17 15:18:00</td>\n",
       "      <td>4</td>\n",
       "      <td>17</td>\n",
       "    </tr>\n",
       "    <tr>\n",
       "      <th>5</th>\n",
       "      <td>5</td>\n",
       "      <td>9988021</td>\n",
       "      <td>580560515_7732621733</td>\n",
       "      <td>781255054_21935453173_531117</td>\n",
       "      <td>step_2</td>\n",
       "      <td>2017-04-17 15:17:00</td>\n",
       "      <td>4</td>\n",
       "      <td>17</td>\n",
       "    </tr>\n",
       "    <tr>\n",
       "      <th>6</th>\n",
       "      <td>6</td>\n",
       "      <td>9988021</td>\n",
       "      <td>580560515_7732621733</td>\n",
       "      <td>781255054_21935453173_531117</td>\n",
       "      <td>step_1</td>\n",
       "      <td>2017-04-17 15:17:00</td>\n",
       "      <td>4</td>\n",
       "      <td>17</td>\n",
       "    </tr>\n",
       "    <tr>\n",
       "      <th>7</th>\n",
       "      <td>7</td>\n",
       "      <td>9988021</td>\n",
       "      <td>580560515_7732621733</td>\n",
       "      <td>781255054_21935453173_531117</td>\n",
       "      <td>start</td>\n",
       "      <td>2017-04-17 15:16:00</td>\n",
       "      <td>4</td>\n",
       "      <td>17</td>\n",
       "    </tr>\n",
       "    <tr>\n",
       "      <th>8</th>\n",
       "      <td>8</td>\n",
       "      <td>8320017</td>\n",
       "      <td>39393514_33118319366</td>\n",
       "      <td>960651974_70596002104_312201</td>\n",
       "      <td>confirm</td>\n",
       "      <td>2017-04-05 13:10:00</td>\n",
       "      <td>4</td>\n",
       "      <td>5</td>\n",
       "    </tr>\n",
       "    <tr>\n",
       "      <th>9</th>\n",
       "      <td>9</td>\n",
       "      <td>8320017</td>\n",
       "      <td>39393514_33118319366</td>\n",
       "      <td>960651974_70596002104_312201</td>\n",
       "      <td>step_3</td>\n",
       "      <td>2017-04-05 13:09:00</td>\n",
       "      <td>4</td>\n",
       "      <td>5</td>\n",
       "    </tr>\n",
       "    <tr>\n",
       "      <th>10</th>\n",
       "      <td>10</td>\n",
       "      <td>8320017</td>\n",
       "      <td>39393514_33118319366</td>\n",
       "      <td>960651974_70596002104_312201</td>\n",
       "      <td>step_2</td>\n",
       "      <td>2017-04-05 13:08:00</td>\n",
       "      <td>4</td>\n",
       "      <td>5</td>\n",
       "    </tr>\n",
       "    <tr>\n",
       "      <th>11</th>\n",
       "      <td>11</td>\n",
       "      <td>8320017</td>\n",
       "      <td>39393514_33118319366</td>\n",
       "      <td>960651974_70596002104_312201</td>\n",
       "      <td>step_1</td>\n",
       "      <td>2017-04-05 13:08:00</td>\n",
       "      <td>4</td>\n",
       "      <td>5</td>\n",
       "    </tr>\n",
       "  </tbody>\n",
       "</table>\n",
       "</div>"
      ],
      "text/plain": [
       "    web_id  client_id            visitor_id                      visit_id  \\\n",
       "0        0    9988021  580560515_7732621733  781255054_21935453173_531117   \n",
       "1        1    9988021  580560515_7732621733  781255054_21935453173_531117   \n",
       "2        2    9988021  580560515_7732621733  781255054_21935453173_531117   \n",
       "3        3    9988021  580560515_7732621733  781255054_21935453173_531117   \n",
       "4        4    9988021  580560515_7732621733  781255054_21935453173_531117   \n",
       "5        5    9988021  580560515_7732621733  781255054_21935453173_531117   \n",
       "6        6    9988021  580560515_7732621733  781255054_21935453173_531117   \n",
       "7        7    9988021  580560515_7732621733  781255054_21935453173_531117   \n",
       "8        8    8320017  39393514_33118319366  960651974_70596002104_312201   \n",
       "9        9    8320017  39393514_33118319366  960651974_70596002104_312201   \n",
       "10      10    8320017  39393514_33118319366  960651974_70596002104_312201   \n",
       "11      11    8320017  39393514_33118319366  960651974_70596002104_312201   \n",
       "\n",
       "   process_step           date_time  Month  Day  \n",
       "0        step_3 2017-04-17 15:27:00      4   17  \n",
       "1        step_2 2017-04-17 15:26:00      4   17  \n",
       "2        step_3 2017-04-17 15:19:00      4   17  \n",
       "3        step_2 2017-04-17 15:19:00      4   17  \n",
       "4        step_3 2017-04-17 15:18:00      4   17  \n",
       "5        step_2 2017-04-17 15:17:00      4   17  \n",
       "6        step_1 2017-04-17 15:17:00      4   17  \n",
       "7         start 2017-04-17 15:16:00      4   17  \n",
       "8       confirm 2017-04-05 13:10:00      4    5  \n",
       "9        step_3 2017-04-05 13:09:00      4    5  \n",
       "10       step_2 2017-04-05 13:08:00      4    5  \n",
       "11       step_1 2017-04-05 13:08:00      4    5  "
      ]
     },
     "execution_count": 24,
     "metadata": {},
     "output_type": "execute_result"
    }
   ],
   "source": [
    "#create a new column named 'day' and add the day from column 'date_time'\n",
    "file['Day'] = pd.DatetimeIndex(file['date_time']).day\n",
    "file.head(12)"
   ]
  },
  {
   "cell_type": "code",
   "execution_count": 25,
   "metadata": {},
   "outputs": [
    {
     "data": {
      "text/html": [
       "<div>\n",
       "<style scoped>\n",
       "    .dataframe tbody tr th:only-of-type {\n",
       "        vertical-align: middle;\n",
       "    }\n",
       "\n",
       "    .dataframe tbody tr th {\n",
       "        vertical-align: top;\n",
       "    }\n",
       "\n",
       "    .dataframe thead th {\n",
       "        text-align: right;\n",
       "    }\n",
       "</style>\n",
       "<table border=\"1\" class=\"dataframe\">\n",
       "  <thead>\n",
       "    <tr style=\"text-align: right;\">\n",
       "      <th></th>\n",
       "      <th>web_id</th>\n",
       "      <th>client_id</th>\n",
       "      <th>visitor_id</th>\n",
       "      <th>visit_id</th>\n",
       "      <th>process_step</th>\n",
       "      <th>date_time</th>\n",
       "      <th>Month</th>\n",
       "      <th>Day</th>\n",
       "    </tr>\n",
       "  </thead>\n",
       "  <tbody>\n",
       "    <tr>\n",
       "      <th>8</th>\n",
       "      <td>8</td>\n",
       "      <td>8320017</td>\n",
       "      <td>39393514_33118319366</td>\n",
       "      <td>960651974_70596002104_312201</td>\n",
       "      <td>confirm</td>\n",
       "      <td>2017-04-05 13:10:00</td>\n",
       "      <td>4</td>\n",
       "      <td>5</td>\n",
       "    </tr>\n",
       "    <tr>\n",
       "      <th>9</th>\n",
       "      <td>9</td>\n",
       "      <td>8320017</td>\n",
       "      <td>39393514_33118319366</td>\n",
       "      <td>960651974_70596002104_312201</td>\n",
       "      <td>step_3</td>\n",
       "      <td>2017-04-05 13:09:00</td>\n",
       "      <td>4</td>\n",
       "      <td>5</td>\n",
       "    </tr>\n",
       "    <tr>\n",
       "      <th>10</th>\n",
       "      <td>10</td>\n",
       "      <td>8320017</td>\n",
       "      <td>39393514_33118319366</td>\n",
       "      <td>960651974_70596002104_312201</td>\n",
       "      <td>step_2</td>\n",
       "      <td>2017-04-05 13:08:00</td>\n",
       "      <td>4</td>\n",
       "      <td>5</td>\n",
       "    </tr>\n",
       "    <tr>\n",
       "      <th>11</th>\n",
       "      <td>11</td>\n",
       "      <td>8320017</td>\n",
       "      <td>39393514_33118319366</td>\n",
       "      <td>960651974_70596002104_312201</td>\n",
       "      <td>step_1</td>\n",
       "      <td>2017-04-05 13:08:00</td>\n",
       "      <td>4</td>\n",
       "      <td>5</td>\n",
       "    </tr>\n",
       "    <tr>\n",
       "      <th>12</th>\n",
       "      <td>12</td>\n",
       "      <td>8320017</td>\n",
       "      <td>39393514_33118319366</td>\n",
       "      <td>960651974_70596002104_312201</td>\n",
       "      <td>start</td>\n",
       "      <td>2017-04-05 13:08:00</td>\n",
       "      <td>4</td>\n",
       "      <td>5</td>\n",
       "    </tr>\n",
       "    <tr>\n",
       "      <th>...</th>\n",
       "      <td>...</td>\n",
       "      <td>...</td>\n",
       "      <td>...</td>\n",
       "      <td>...</td>\n",
       "      <td>...</td>\n",
       "      <td>...</td>\n",
       "      <td>...</td>\n",
       "      <td>...</td>\n",
       "    </tr>\n",
       "    <tr>\n",
       "      <th>343106</th>\n",
       "      <td>343106</td>\n",
       "      <td>9722009</td>\n",
       "      <td>315897436_78057862622</td>\n",
       "      <td>361383806_64671399344_414117</td>\n",
       "      <td>confirm</td>\n",
       "      <td>2017-04-05 16:45:00</td>\n",
       "      <td>4</td>\n",
       "      <td>5</td>\n",
       "    </tr>\n",
       "    <tr>\n",
       "      <th>343107</th>\n",
       "      <td>343107</td>\n",
       "      <td>9722009</td>\n",
       "      <td>315897436_78057862622</td>\n",
       "      <td>361383806_64671399344_414117</td>\n",
       "      <td>step_3</td>\n",
       "      <td>2017-04-05 16:43:00</td>\n",
       "      <td>4</td>\n",
       "      <td>5</td>\n",
       "    </tr>\n",
       "    <tr>\n",
       "      <th>343108</th>\n",
       "      <td>343108</td>\n",
       "      <td>9722009</td>\n",
       "      <td>315897436_78057862622</td>\n",
       "      <td>361383806_64671399344_414117</td>\n",
       "      <td>step_2</td>\n",
       "      <td>2017-04-05 16:41:00</td>\n",
       "      <td>4</td>\n",
       "      <td>5</td>\n",
       "    </tr>\n",
       "    <tr>\n",
       "      <th>343109</th>\n",
       "      <td>343109</td>\n",
       "      <td>9722009</td>\n",
       "      <td>315897436_78057862622</td>\n",
       "      <td>361383806_64671399344_414117</td>\n",
       "      <td>step_1</td>\n",
       "      <td>2017-04-05 16:40:00</td>\n",
       "      <td>4</td>\n",
       "      <td>5</td>\n",
       "    </tr>\n",
       "    <tr>\n",
       "      <th>343110</th>\n",
       "      <td>343110</td>\n",
       "      <td>9722009</td>\n",
       "      <td>315897436_78057862622</td>\n",
       "      <td>361383806_64671399344_414117</td>\n",
       "      <td>start</td>\n",
       "      <td>2017-04-05 16:40:00</td>\n",
       "      <td>4</td>\n",
       "      <td>5</td>\n",
       "    </tr>\n",
       "  </tbody>\n",
       "</table>\n",
       "<p>35473 rows × 8 columns</p>\n",
       "</div>"
      ],
      "text/plain": [
       "        web_id  client_id             visitor_id  \\\n",
       "8            8    8320017   39393514_33118319366   \n",
       "9            9    8320017   39393514_33118319366   \n",
       "10          10    8320017   39393514_33118319366   \n",
       "11          11    8320017   39393514_33118319366   \n",
       "12          12    8320017   39393514_33118319366   \n",
       "...        ...        ...                    ...   \n",
       "343106  343106    9722009  315897436_78057862622   \n",
       "343107  343107    9722009  315897436_78057862622   \n",
       "343108  343108    9722009  315897436_78057862622   \n",
       "343109  343109    9722009  315897436_78057862622   \n",
       "343110  343110    9722009  315897436_78057862622   \n",
       "\n",
       "                            visit_id process_step           date_time  Month  \\\n",
       "8       960651974_70596002104_312201      confirm 2017-04-05 13:10:00      4   \n",
       "9       960651974_70596002104_312201       step_3 2017-04-05 13:09:00      4   \n",
       "10      960651974_70596002104_312201       step_2 2017-04-05 13:08:00      4   \n",
       "11      960651974_70596002104_312201       step_1 2017-04-05 13:08:00      4   \n",
       "12      960651974_70596002104_312201        start 2017-04-05 13:08:00      4   \n",
       "...                              ...          ...                 ...    ...   \n",
       "343106  361383806_64671399344_414117      confirm 2017-04-05 16:45:00      4   \n",
       "343107  361383806_64671399344_414117       step_3 2017-04-05 16:43:00      4   \n",
       "343108  361383806_64671399344_414117       step_2 2017-04-05 16:41:00      4   \n",
       "343109  361383806_64671399344_414117       step_1 2017-04-05 16:40:00      4   \n",
       "343110  361383806_64671399344_414117        start 2017-04-05 16:40:00      4   \n",
       "\n",
       "        Day  \n",
       "8         5  \n",
       "9         5  \n",
       "10        5  \n",
       "11        5  \n",
       "12        5  \n",
       "...     ...  \n",
       "343106    5  \n",
       "343107    5  \n",
       "343108    5  \n",
       "343109    5  \n",
       "343110    5  \n",
       "\n",
       "[35473 rows x 8 columns]"
      ]
     },
     "execution_count": 25,
     "metadata": {},
     "output_type": "execute_result"
    }
   ],
   "source": [
    "#filter by a particular day (could be from every month though)\n",
    "file.query('Day==\"5\"')"
   ]
  },
  {
   "cell_type": "code",
   "execution_count": 27,
   "metadata": {},
   "outputs": [
    {
     "data": {
      "text/plain": [
       "array([4, 3])"
      ]
     },
     "execution_count": 27,
     "metadata": {},
     "output_type": "execute_result"
    }
   ],
   "source": [
    "file['Month'].unique() #just to see how many months there are actually"
   ]
  },
  {
   "cell_type": "code",
   "execution_count": 33,
   "metadata": {
    "scrolled": true
   },
   "outputs": [
    {
     "data": {
      "text/html": [
       "<div>\n",
       "<style scoped>\n",
       "    .dataframe tbody tr th:only-of-type {\n",
       "        vertical-align: middle;\n",
       "    }\n",
       "\n",
       "    .dataframe tbody tr th {\n",
       "        vertical-align: top;\n",
       "    }\n",
       "\n",
       "    .dataframe thead th {\n",
       "        text-align: right;\n",
       "    }\n",
       "</style>\n",
       "<table border=\"1\" class=\"dataframe\">\n",
       "  <thead>\n",
       "    <tr style=\"text-align: right;\">\n",
       "      <th></th>\n",
       "      <th>web_id</th>\n",
       "      <th>client_id</th>\n",
       "      <th>visitor_id</th>\n",
       "      <th>visit_id</th>\n",
       "      <th>process_step</th>\n",
       "      <th>date_time</th>\n",
       "      <th>Month</th>\n",
       "      <th>Day</th>\n",
       "    </tr>\n",
       "  </thead>\n",
       "  <tbody>\n",
       "    <tr>\n",
       "      <th>354</th>\n",
       "      <td>354</td>\n",
       "      <td>2709011</td>\n",
       "      <td>664541274_97144910167</td>\n",
       "      <td>235162568_43115336410_822881</td>\n",
       "      <td>start</td>\n",
       "      <td>2017-04-08 12:33:00</td>\n",
       "      <td>4</td>\n",
       "      <td>8</td>\n",
       "    </tr>\n",
       "    <tr>\n",
       "      <th>355</th>\n",
       "      <td>355</td>\n",
       "      <td>9900469</td>\n",
       "      <td>210215964_20090640456</td>\n",
       "      <td>3461145_4721576513_877614</td>\n",
       "      <td>start</td>\n",
       "      <td>2017-04-01 19:02:00</td>\n",
       "      <td>4</td>\n",
       "      <td>1</td>\n",
       "    </tr>\n",
       "    <tr>\n",
       "      <th>357</th>\n",
       "      <td>357</td>\n",
       "      <td>6229916</td>\n",
       "      <td>483835308_26502657270</td>\n",
       "      <td>230630559_77569449276_549196</td>\n",
       "      <td>confirm</td>\n",
       "      <td>2017-04-01 16:29:00</td>\n",
       "      <td>4</td>\n",
       "      <td>1</td>\n",
       "    </tr>\n",
       "    <tr>\n",
       "      <th>358</th>\n",
       "      <td>358</td>\n",
       "      <td>6229916</td>\n",
       "      <td>483835308_26502657270</td>\n",
       "      <td>230630559_77569449276_549196</td>\n",
       "      <td>confirm</td>\n",
       "      <td>2017-04-01 16:27:00</td>\n",
       "      <td>4</td>\n",
       "      <td>1</td>\n",
       "    </tr>\n",
       "    <tr>\n",
       "      <th>366</th>\n",
       "      <td>366</td>\n",
       "      <td>4773291</td>\n",
       "      <td>587236617_20429853618</td>\n",
       "      <td>504295674_94485333270_228899</td>\n",
       "      <td>start</td>\n",
       "      <td>2017-04-08 04:49:00</td>\n",
       "      <td>4</td>\n",
       "      <td>8</td>\n",
       "    </tr>\n",
       "    <tr>\n",
       "      <th>...</th>\n",
       "      <td>...</td>\n",
       "      <td>...</td>\n",
       "      <td>...</td>\n",
       "      <td>...</td>\n",
       "      <td>...</td>\n",
       "      <td>...</td>\n",
       "      <td>...</td>\n",
       "      <td>...</td>\n",
       "    </tr>\n",
       "    <tr>\n",
       "      <th>342864</th>\n",
       "      <td>342864</td>\n",
       "      <td>6820024</td>\n",
       "      <td>415995398_21642161061</td>\n",
       "      <td>917003829_36953216287_21421</td>\n",
       "      <td>start</td>\n",
       "      <td>2017-03-18 12:27:00</td>\n",
       "      <td>3</td>\n",
       "      <td>18</td>\n",
       "    </tr>\n",
       "    <tr>\n",
       "      <th>342865</th>\n",
       "      <td>342865</td>\n",
       "      <td>6820024</td>\n",
       "      <td>415995398_21642161061</td>\n",
       "      <td>917003829_36953216287_21421</td>\n",
       "      <td>step_1</td>\n",
       "      <td>2017-03-18 12:26:00</td>\n",
       "      <td>3</td>\n",
       "      <td>18</td>\n",
       "    </tr>\n",
       "    <tr>\n",
       "      <th>342866</th>\n",
       "      <td>342866</td>\n",
       "      <td>6820024</td>\n",
       "      <td>415995398_21642161061</td>\n",
       "      <td>917003829_36953216287_21421</td>\n",
       "      <td>start</td>\n",
       "      <td>2017-03-18 12:25:00</td>\n",
       "      <td>3</td>\n",
       "      <td>18</td>\n",
       "    </tr>\n",
       "    <tr>\n",
       "      <th>342923</th>\n",
       "      <td>342923</td>\n",
       "      <td>127202</td>\n",
       "      <td>575836768_6553168853</td>\n",
       "      <td>786607636_58917493275_576382</td>\n",
       "      <td>start</td>\n",
       "      <td>2017-04-08 12:36:00</td>\n",
       "      <td>4</td>\n",
       "      <td>8</td>\n",
       "    </tr>\n",
       "    <tr>\n",
       "      <th>342924</th>\n",
       "      <td>342924</td>\n",
       "      <td>127202</td>\n",
       "      <td>575836768_6553168853</td>\n",
       "      <td>786607636_58917493275_576382</td>\n",
       "      <td>start</td>\n",
       "      <td>2017-04-08 12:35:00</td>\n",
       "      <td>4</td>\n",
       "      <td>8</td>\n",
       "    </tr>\n",
       "  </tbody>\n",
       "</table>\n",
       "<p>30224 rows × 8 columns</p>\n",
       "</div>"
      ],
      "text/plain": [
       "        web_id  client_id             visitor_id  \\\n",
       "354        354    2709011  664541274_97144910167   \n",
       "355        355    9900469  210215964_20090640456   \n",
       "357        357    6229916  483835308_26502657270   \n",
       "358        358    6229916  483835308_26502657270   \n",
       "366        366    4773291  587236617_20429853618   \n",
       "...        ...        ...                    ...   \n",
       "342864  342864    6820024  415995398_21642161061   \n",
       "342865  342865    6820024  415995398_21642161061   \n",
       "342866  342866    6820024  415995398_21642161061   \n",
       "342923  342923     127202   575836768_6553168853   \n",
       "342924  342924     127202   575836768_6553168853   \n",
       "\n",
       "                            visit_id process_step           date_time  Month  \\\n",
       "354     235162568_43115336410_822881        start 2017-04-08 12:33:00      4   \n",
       "355        3461145_4721576513_877614        start 2017-04-01 19:02:00      4   \n",
       "357     230630559_77569449276_549196      confirm 2017-04-01 16:29:00      4   \n",
       "358     230630559_77569449276_549196      confirm 2017-04-01 16:27:00      4   \n",
       "366     504295674_94485333270_228899        start 2017-04-08 04:49:00      4   \n",
       "...                              ...          ...                 ...    ...   \n",
       "342864   917003829_36953216287_21421        start 2017-03-18 12:27:00      3   \n",
       "342865   917003829_36953216287_21421       step_1 2017-03-18 12:26:00      3   \n",
       "342866   917003829_36953216287_21421        start 2017-03-18 12:25:00      3   \n",
       "342923  786607636_58917493275_576382        start 2017-04-08 12:36:00      4   \n",
       "342924  786607636_58917493275_576382        start 2017-04-08 12:35:00      4   \n",
       "\n",
       "        Day  \n",
       "354       8  \n",
       "355       1  \n",
       "357       1  \n",
       "358       1  \n",
       "366       8  \n",
       "...     ...  \n",
       "342864   18  \n",
       "342865   18  \n",
       "342866   18  \n",
       "342923    8  \n",
       "342924    8  \n",
       "\n",
       "[30224 rows x 8 columns]"
      ]
     },
     "execution_count": 33,
     "metadata": {},
     "output_type": "execute_result"
    }
   ],
   "source": [
    "#challenge - filter the df for satursdays\n",
    "file.loc[file['date_time'].dt.weekday == 5]\n",
    "\n",
    "#"
   ]
  },
  {
   "cell_type": "markdown",
   "metadata": {},
   "source": [
    "#### Relative time\n",
    "\n",
    "**! you need to import a new library**\n",
    "<br>\n",
    "> import time"
   ]
  },
  {
   "cell_type": "code",
   "execution_count": 34,
   "metadata": {},
   "outputs": [
    {
     "data": {
      "text/plain": [
       "datetime.date(2021, 3, 25)"
      ]
     },
     "execution_count": 34,
     "metadata": {},
     "output_type": "execute_result"
    }
   ],
   "source": [
    "import time\n",
    "from datetime import date\n",
    "today = date.today()\n",
    "today\n",
    "\n",
    "#find out the current date"
   ]
  },
  {
   "cell_type": "code",
   "execution_count": 35,
   "metadata": {},
   "outputs": [
    {
     "data": {
      "text/plain": [
       "time.struct_time(tm_year=2021, tm_mon=3, tm_mday=25, tm_hour=10, tm_min=10, tm_sec=27, tm_wday=3, tm_yday=84, tm_isdst=0)"
      ]
     },
     "execution_count": 35,
     "metadata": {},
     "output_type": "execute_result"
    }
   ],
   "source": [
    "#your local time \n",
    "time.localtime(time.time())"
   ]
  },
  {
   "cell_type": "code",
   "execution_count": 53,
   "metadata": {
    "scrolled": true
   },
   "outputs": [
    {
     "data": {
      "text/plain": [
       "time.struct_time(tm_year=2021, tm_mon=3, tm_mday=25, tm_hour=9, tm_min=34, tm_sec=52, tm_wday=3, tm_yday=84, tm_isdst=0)"
      ]
     },
     "execution_count": 53,
     "metadata": {},
     "output_type": "execute_result"
    }
   ],
   "source": [
    "#current time in london\n",
    "time.gmtime(time.time())\n",
    "\n",
    "#gm for london\n",
    "#bst for london"
   ]
  },
  {
   "cell_type": "markdown",
   "metadata": {},
   "source": [
    "# String functions\n",
    "\n",
    "https://docs.python.org/2.5/lib/string-methods.html"
   ]
  },
  {
   "cell_type": "code",
   "execution_count": 37,
   "metadata": {},
   "outputs": [],
   "source": [
    "string = \" I am learning  data  analysis at Ironhack  . It is  the BEST! \"\n"
   ]
  },
  {
   "cell_type": "code",
   "execution_count": 38,
   "metadata": {},
   "outputs": [
    {
     "data": {
      "text/plain": [
       "' i am learning  data  analysis at ironhack  . it is  the best! '"
      ]
     },
     "execution_count": 38,
     "metadata": {},
     "output_type": "execute_result"
    }
   ],
   "source": [
    "string.lower()\n",
    "\n",
    "#all letter will be in lower case"
   ]
  },
  {
   "cell_type": "code",
   "execution_count": 39,
   "metadata": {},
   "outputs": [
    {
     "data": {
      "text/plain": [
       "' I AM LEARNING  DATA  ANALYSIS AT IRONHACK  . IT IS  THE BEST! '"
      ]
     },
     "execution_count": 39,
     "metadata": {},
     "output_type": "execute_result"
    }
   ],
   "source": [
    "string.upper()\n",
    "\n",
    "#all letters will be in upper case"
   ]
  },
  {
   "cell_type": "code",
   "execution_count": 40,
   "metadata": {},
   "outputs": [
    {
     "data": {
      "text/plain": [
       "True"
      ]
     },
     "execution_count": 40,
     "metadata": {},
     "output_type": "execute_result"
    }
   ],
   "source": [
    "#we can identify numbers in strings \n",
    "\n",
    "'34'.isdigit() # hint: this does not work with decimal numbers"
   ]
  },
  {
   "cell_type": "code",
   "execution_count": 41,
   "metadata": {},
   "outputs": [],
   "source": [
    "subjects='data science, coding  , python, visualisation '"
   ]
  },
  {
   "cell_type": "code",
   "execution_count": 42,
   "metadata": {},
   "outputs": [
    {
     "data": {
      "text/plain": [
       "['data science', 'coding  ', 'python', 'visualisation ']"
      ]
     },
     "execution_count": 42,
     "metadata": {},
     "output_type": "execute_result"
    }
   ],
   "source": [
    "#using a basic split around the comma \n",
    "subjects.split(', ')\n",
    "\n",
    "#does not trim e.g. if you have spaces"
   ]
  },
  {
   "cell_type": "code",
   "execution_count": 43,
   "metadata": {},
   "outputs": [
    {
     "data": {
      "text/plain": [
       "['data science', 'coding', 'python', 'visualisation']"
      ]
     },
     "execution_count": 43,
     "metadata": {},
     "output_type": "execute_result"
    }
   ],
   "source": [
    "#combine split on column with trim of whitespace\n",
    "pieces = [x.strip() for x in subjects.split(',')]\n",
    "pieces\n",
    "\n",
    "#trimmed the spaces with x.strip()"
   ]
  },
  {
   "cell_type": "code",
   "execution_count": 44,
   "metadata": {},
   "outputs": [
    {
     "data": {
      "text/plain": [
       "['datascience', 'coding', 'python', 'visualisation']"
      ]
     },
     "execution_count": 44,
     "metadata": {},
     "output_type": "execute_result"
    }
   ],
   "source": [
    "pieces = [x.replace(\" \",\"\") for x in subjects.split(',')]\n",
    "pieces\n",
    "\n",
    "#could also use x.replace()"
   ]
  },
  {
   "cell_type": "code",
   "execution_count": 45,
   "metadata": {},
   "outputs": [
    {
     "data": {
      "text/plain": [
       "True"
      ]
     },
     "execution_count": 45,
     "metadata": {},
     "output_type": "execute_result"
    }
   ],
   "source": [
    "#keyword search \n",
    "'data science' in subjects\n",
    "\n",
    "#see if a certain string is in the data"
   ]
  },
  {
   "cell_type": "code",
   "execution_count": 46,
   "metadata": {},
   "outputs": [],
   "source": [
    "str='data scientists too'"
   ]
  },
  {
   "cell_type": "code",
   "execution_count": 47,
   "metadata": {},
   "outputs": [
    {
     "data": {
      "text/plain": [
       "'scientists'"
      ]
     },
     "execution_count": 47,
     "metadata": {},
     "output_type": "execute_result"
    }
   ],
   "source": [
    "#isolate part of a string using index \n",
    "str[5:-4]\n",
    "\n",
    "#starting from fiths posititon from left to -4th position from right\n",
    "#only if string is predictable"
   ]
  },
  {
   "cell_type": "code",
   "execution_count": 48,
   "metadata": {},
   "outputs": [
    {
     "data": {
      "text/plain": [
       "'its brilliant playing with strings'"
      ]
     },
     "execution_count": 48,
     "metadata": {},
     "output_type": "execute_result"
    }
   ],
   "source": [
    "#replace\n",
    "'its hard playing with strings'.replace('hard','brilliant')"
   ]
  },
  {
   "cell_type": "code",
   "execution_count": 49,
   "metadata": {},
   "outputs": [
    {
     "data": {
      "text/plain": [
       "'data'"
      ]
     },
     "execution_count": 49,
     "metadata": {},
     "output_type": "execute_result"
    }
   ],
   "source": [
    "#use left strip to remove characters \n",
    "text=\"..ssshhh..,,,,aaaahsdata\"\n",
    "x = text.lstrip(\".,ash\")\n",
    "x\n",
    "\n",
    "#here we strip all dots, all a,s,h and ,"
   ]
  },
  {
   "cell_type": "code",
   "execution_count": 51,
   "metadata": {},
   "outputs": [
    {
     "data": {
      "text/plain": [
       "'data....,'"
      ]
     },
     "execution_count": 51,
     "metadata": {},
     "output_type": "execute_result"
    }
   ],
   "source": [
    "text2=\"..ssshhh..,,,,aaaahsdata....,\"\n",
    "x = text2.lstrip(\".,ash\")\n",
    "x\n",
    "\n",
    "#here we see that only all left is stripped until i hit smt which is not defined in the function"
   ]
  },
  {
   "cell_type": "code",
   "execution_count": 50,
   "metadata": {},
   "outputs": [
    {
     "data": {
      "text/plain": [
       "'whoami?'"
      ]
     },
     "execution_count": 50,
     "metadata": {},
     "output_type": "execute_result"
    }
   ],
   "source": [
    "#use left strip to remove leading white space\n",
    "text2=\"     whoami?\"\n",
    "y= text2.lstrip()\n",
    "y"
   ]
  },
  {
   "cell_type": "code",
   "execution_count": 52,
   "metadata": {},
   "outputs": [
    {
     "data": {
      "text/plain": [
       "2"
      ]
     },
     "execution_count": 52,
     "metadata": {},
     "output_type": "execute_result"
    }
   ],
   "source": [
    "#substring count \n",
    "my_string = \"How many fruits do you have in your fruit basket?\"\n",
    "my_string.count(\"fruit\")\n",
    "\n",
    "#to see how many time the defined string is in the whole string"
   ]
  },
  {
   "cell_type": "markdown",
   "metadata": {},
   "source": [
    "## ! if you can use strings use strings, if not use regex"
   ]
  }
 ],
 "metadata": {
  "kernelspec": {
   "display_name": "Python 3",
   "language": "python",
   "name": "python3"
  },
  "language_info": {
   "codemirror_mode": {
    "name": "ipython",
    "version": 3
   },
   "file_extension": ".py",
   "mimetype": "text/x-python",
   "name": "python",
   "nbconvert_exporter": "python",
   "pygments_lexer": "ipython3",
   "version": "3.8.5"
  }
 },
 "nbformat": 4,
 "nbformat_minor": 4
}
