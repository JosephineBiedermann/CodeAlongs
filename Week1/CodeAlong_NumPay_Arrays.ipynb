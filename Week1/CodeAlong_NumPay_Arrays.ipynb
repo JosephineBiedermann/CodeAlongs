{
 "cells": [
  {
   "attachments": {
    "Screenshot%202021-03-26%20at%2011.40.42.png": {
     "image/png": "[encoded data removed]"
    }
   },
   "cell_type": "markdown",
   "metadata": {},
   "source": [
    "# NumPy & Arrays\n",
    "\n",
    "**NumPy = Numerical Processing** -> includes support for multi-dimensional arrays and matrices along with variety of mathematical functions to apply to them\n",
    "<br>\n",
    "<br>\n",
    "pandas, mathplot, etc are build on numpy\n",
    "<br>\n",
    "<br>\n",
    "Cheat Sheet: https://s3.amazonaws.com/assets.datacamp.com/blog_assets/Numpy_Python_Cheat_Sheet.pdf\n",
    "<br>\n",
    "<br>\n",
    "**Question - what is an array?**\n",
    "<br>\n",
    "- ARR= a grid of values, indexed by integers, all values being the same dtype \n",
    "<br>\n",
    "- Arrays can be multidimensional\n",
    "<br>\n",
    "- from 0 dimensional to N dimensional\n",
    "<br>\n",
    "- 0 dimensional = 'scalar'\n",
    "\n",
    "**Dimensions**\n",
    "<br>\n",
    "- 1 dimention = list\n",
    "<br>\n",
    "- 2 dimensions = table\n",
    "<br>\n",
    "- 3 dimensions = cube\n",
    "\n",
    "![Screenshot%202021-03-26%20at%2011.40.42.png](attachment:Screenshot%202021-03-26%20at%2011.40.42.png)\n",
    "\n",
    "**How do the arrays look like per dimension?**\n",
    "- **0 dimension** - a=np.array(1)\n",
    "- **2 dimension** - c=np.array([x,y],[z,w],[k,j])\n",
    "- **1 dimension** - b=np.array([1,2,3,4,5])\n",
    "- **3 dimension** - c=np.array([[x,y],[z,w]],[[k,j],[o,p]])"
   ]
  },
  {
   "cell_type": "code",
   "execution_count": 1,
   "metadata": {},
   "outputs": [],
   "source": [
    "import numpy as np"
   ]
  },
  {
   "cell_type": "code",
   "execution_count": 3,
   "metadata": {},
   "outputs": [
    {
     "name": "stdout",
     "output_type": "stream",
     "text": [
      "[1, 2, 3, 4, 5]\n"
     ]
    }
   ],
   "source": [
    "#why is numpy needed \n",
    "lst=[1,2,3,4,5]\n",
    "print(lst)\n",
    "\n",
    "#to add something to a list need to use for loop or listcomprehension"
   ]
  },
  {
   "cell_type": "code",
   "execution_count": 4,
   "metadata": {},
   "outputs": [
    {
     "ename": "TypeError",
     "evalue": "can only concatenate list (not \"int\") to list",
     "output_type": "error",
     "traceback": [
      "\u001b[0;31m---------------------------------------------------------------------------\u001b[0m",
      "\u001b[0;31mTypeError\u001b[0m                                 Traceback (most recent call last)",
      "\u001b[0;32m<ipython-input-4-f13b53ef041d>\u001b[0m in \u001b[0;36m<module>\u001b[0;34m\u001b[0m\n\u001b[1;32m      1\u001b[0m \u001b[0;31m#I want to add 2 to each value in my list\u001b[0m\u001b[0;34m\u001b[0m\u001b[0;34m\u001b[0m\u001b[0;34m\u001b[0m\u001b[0m\n\u001b[0;32m----> 2\u001b[0;31m \u001b[0mlst\u001b[0m\u001b[0;34m+\u001b[0m\u001b[0;36m2\u001b[0m\u001b[0;34m\u001b[0m\u001b[0;34m\u001b[0m\u001b[0m\n\u001b[0m",
      "\u001b[0;31mTypeError\u001b[0m: can only concatenate list (not \"int\") to list"
     ]
    }
   ],
   "source": [
    "#I want to add 2 to each value in my list \n",
    "lst+2\n",
    "\n",
    "#gets an error"
   ]
  },
  {
   "cell_type": "markdown",
   "metadata": {},
   "source": [
    "np.array([x,y,z])\n",
    "\n",
    "np.array(my_list)"
   ]
  },
  {
   "cell_type": "code",
   "execution_count": 7,
   "metadata": {},
   "outputs": [
    {
     "name": "stdout",
     "output_type": "stream",
     "text": [
      "[1 2 3 4 5]\n"
     ]
    }
   ],
   "source": [
    "#define the same list as an array \n",
    "arr=np.array([1,2,3,4,5])\n",
    "#could also have used my_array = np.array(my_list)\n",
    "print(arr)"
   ]
  },
  {
   "cell_type": "code",
   "execution_count": 6,
   "metadata": {},
   "outputs": [
    {
     "data": {
      "text/plain": [
       "array([3, 4, 5, 6, 7])"
      ]
     },
     "execution_count": 6,
     "metadata": {},
     "output_type": "execute_result"
    }
   ],
   "source": [
    "#now lets add 2 to each value in the list \n",
    "arr+2"
   ]
  },
  {
   "cell_type": "markdown",
   "metadata": {},
   "source": [
    "### 0 and 1 dimension arrays\n",
    "\n",
    "- **0 dimension** - a=np.array(1)\n",
    "- **1 dimension** - b=np.array([1,2,3,4,5])"
   ]
  },
  {
   "cell_type": "code",
   "execution_count": 8,
   "metadata": {
    "scrolled": true
   },
   "outputs": [
    {
     "data": {
      "text/plain": [
       "0"
      ]
     },
     "execution_count": 8,
     "metadata": {},
     "output_type": "execute_result"
    }
   ],
   "source": [
    "#example of a 0 d array \n",
    "a=np.array(1)\n",
    "a.ndim\n",
    "\n",
    "# a is the array\n",
    "# a.ndim - returns number of dimensions"
   ]
  },
  {
   "cell_type": "code",
   "execution_count": 10,
   "metadata": {},
   "outputs": [
    {
     "data": {
      "text/plain": [
       "()"
      ]
     },
     "execution_count": 10,
     "metadata": {},
     "output_type": "execute_result"
    }
   ],
   "source": [
    "a.shape\n",
    "#no shape to a 0 dimensional array"
   ]
  },
  {
   "cell_type": "code",
   "execution_count": 11,
   "metadata": {},
   "outputs": [
    {
     "data": {
      "text/plain": [
       "1"
      ]
     },
     "execution_count": 11,
     "metadata": {},
     "output_type": "execute_result"
    }
   ],
   "source": [
    "#example of a 1 d array \n",
    "b=np.array([1,2,3,4,5])\n",
    "b.ndim\n",
    "#try filling the variable b with a different/longer/more diverse array"
   ]
  },
  {
   "cell_type": "code",
   "execution_count": 12,
   "metadata": {},
   "outputs": [
    {
     "data": {
      "text/plain": [
       "(5,)"
      ]
     },
     "execution_count": 12,
     "metadata": {},
     "output_type": "execute_result"
    }
   ],
   "source": [
    "b.shape\n",
    "\n",
    "#has a shape, but there is just 1 axis\n",
    "#it has an index"
   ]
  },
  {
   "cell_type": "code",
   "execution_count": 14,
   "metadata": {},
   "outputs": [
    {
     "data": {
      "text/plain": [
       "2"
      ]
     },
     "execution_count": 14,
     "metadata": {},
     "output_type": "execute_result"
    }
   ],
   "source": [
    "b[1]\n",
    "\n",
    "#Access the second element from the array"
   ]
  },
  {
   "cell_type": "markdown",
   "metadata": {},
   "source": [
    "Some basic math operators"
   ]
  },
  {
   "cell_type": "code",
   "execution_count": 15,
   "metadata": {},
   "outputs": [
    {
     "data": {
      "text/plain": [
       "15"
      ]
     },
     "execution_count": 15,
     "metadata": {},
     "output_type": "execute_result"
    }
   ],
   "source": [
    "np.sum(b)\n",
    "\n",
    "# sum up the numbers in my array"
   ]
  },
  {
   "cell_type": "code",
   "execution_count": 16,
   "metadata": {},
   "outputs": [
    {
     "data": {
      "text/plain": [
       "3.0"
      ]
     },
     "execution_count": 16,
     "metadata": {},
     "output_type": "execute_result"
    }
   ],
   "source": [
    "np.median(b)"
   ]
  },
  {
   "cell_type": "code",
   "execution_count": 17,
   "metadata": {},
   "outputs": [
    {
     "data": {
      "text/plain": [
       "5"
      ]
     },
     "execution_count": 17,
     "metadata": {},
     "output_type": "execute_result"
    }
   ],
   "source": [
    "np.max(b)"
   ]
  },
  {
   "cell_type": "code",
   "execution_count": 18,
   "metadata": {},
   "outputs": [
    {
     "data": {
      "text/plain": [
       "1"
      ]
     },
     "execution_count": 18,
     "metadata": {},
     "output_type": "execute_result"
    }
   ],
   "source": [
    "np.min(b)"
   ]
  },
  {
   "cell_type": "code",
   "execution_count": 22,
   "metadata": {},
   "outputs": [
    {
     "data": {
      "text/plain": [
       "array([ 1,  3,  6, 10, 15])"
      ]
     },
     "execution_count": 22,
     "metadata": {},
     "output_type": "execute_result"
    }
   ],
   "source": [
    "np.cumsum(b)"
   ]
  },
  {
   "cell_type": "code",
   "execution_count": 21,
   "metadata": {},
   "outputs": [
    {
     "data": {
      "text/plain": [
       "array([  1,   2,   6,  24, 120])"
      ]
     },
     "execution_count": 21,
     "metadata": {},
     "output_type": "execute_result"
    }
   ],
   "source": [
    "np.cumprod(b)\n",
    "\n",
    "#cummulated product"
   ]
  },
  {
   "cell_type": "markdown",
   "metadata": {},
   "source": [
    "#### Maths in NumPy"
   ]
  },
  {
   "cell_type": "markdown",
   "metadata": {},
   "source": [
    "np.hypot()\n",
    "<br>\n",
    "<br>\n",
    "base = y\n",
    "<br>\n",
    "perp = x\n",
    "<br>\n",
    "new variable = np.hypot(base, perp)"
   ]
  },
  {
   "cell_type": "code",
   "execution_count": 23,
   "metadata": {},
   "outputs": [
    {
     "data": {
      "text/plain": [
       "68.65857557508748"
      ]
     },
     "execution_count": 23,
     "metadata": {},
     "output_type": "execute_result"
    }
   ],
   "source": [
    "#lets revisit those nightmares and do some Pythag! \n",
    "# define your right angled triangle:\n",
    "base= 15\n",
    "perp= 67\n",
    "#use np to calculate the length of the hypoteneuse\n",
    "hyp=np.hypot(base, perp)\n",
    "hyp"
   ]
  },
  {
   "cell_type": "code",
   "execution_count": 28,
   "metadata": {},
   "outputs": [
    {
     "name": "stdout",
     "output_type": "stream",
     "text": [
      "68.65857557508748\n"
     ]
    }
   ],
   "source": [
    "import math as m\n",
    "\n",
    "hyp2 = m.sqrt(base**2+perp**2)\n",
    "print(hyp2)\n",
    "\n",
    "#calculating it \"manually\" with the math library"
   ]
  },
  {
   "cell_type": "code",
   "execution_count": 29,
   "metadata": {},
   "outputs": [
    {
     "name": "stdout",
     "output_type": "stream",
     "text": [
      "0.1235\n"
     ]
    }
   ],
   "source": [
    "#To pick up Simons question on float64... np can explain it visually \n",
    "\n",
    "p=np.array((0.12345678976543,1,2,3),dtype=np.float16) #1 d array (1 dimension array)\n",
    "print(p[0])\n",
    "\n",
    "#you can define a dtype for an array, need to be all the same though"
   ]
  },
  {
   "cell_type": "code",
   "execution_count": 31,
   "metadata": {},
   "outputs": [
    {
     "name": "stdout",
     "output_type": "stream",
     "text": [
      "0.12345679\n"
     ]
    }
   ],
   "source": [
    "q=np.array((0.12345678976543,1,2,3),dtype=np.float32)\n",
    "print(q[0])"
   ]
  },
  {
   "cell_type": "code",
   "execution_count": 30,
   "metadata": {},
   "outputs": [
    {
     "name": "stdout",
     "output_type": "stream",
     "text": [
      "0.12345678976543\n"
     ]
    }
   ],
   "source": [
    "r=np.array((0.12345678976543,1,2,3),dtype=np.float64)\n",
    "print(r[0])\n",
    "\n",
    "#float32, 64 or 16 defines how many decimals are stored"
   ]
  },
  {
   "cell_type": "markdown",
   "metadata": {},
   "source": [
    "## Multi dimensional np arrays "
   ]
  },
  {
   "cell_type": "markdown",
   "metadata": {},
   "source": [
    "- **2 dimension** - c=np.array([x,y],[z,w],[k,j])"
   ]
  },
  {
   "cell_type": "code",
   "execution_count": 32,
   "metadata": {},
   "outputs": [
    {
     "data": {
      "text/plain": [
       "2"
      ]
     },
     "execution_count": 32,
     "metadata": {},
     "output_type": "execute_result"
    }
   ],
   "source": [
    "#example of a 2d array\n",
    "c=np.array([[2,2,2,2],[8,7,6,5]])\n",
    "c.ndim\n",
    "\n",
    "#the 2 arrays need to have the same \"length\""
   ]
  },
  {
   "attachments": {
    "Screenshot%202021-03-26%20at%2011.40.14.png": {
     "image/png": "[encoded data removed]"
    }
   },
   "cell_type": "markdown",
   "metadata": {},
   "source": [
    "![Screenshot%202021-03-26%20at%2011.40.14.png](attachment:Screenshot%202021-03-26%20at%2011.40.14.png)"
   ]
  },
  {
   "cell_type": "code",
   "execution_count": 36,
   "metadata": {},
   "outputs": [
    {
     "data": {
      "text/plain": [
       "array([[2, 2, 2, 2],\n",
       "       [8, 7, 6, 5]])"
      ]
     },
     "execution_count": 36,
     "metadata": {},
     "output_type": "execute_result"
    }
   ],
   "source": [
    "c\n",
    "# print(c) or c.view() or just type the variable\n",
    "#view the variable c as a matrix of rows and columns"
   ]
  },
  {
   "cell_type": "code",
   "execution_count": 38,
   "metadata": {},
   "outputs": [
    {
     "data": {
      "text/plain": [
       "(2, 4)"
      ]
     },
     "execution_count": 38,
     "metadata": {},
     "output_type": "execute_result"
    }
   ],
   "source": [
    "#use shape to check the shape of the array d\n",
    "\n",
    "c.shape\n",
    "\n",
    "#we have 2 rows and 4 columns"
   ]
  },
  {
   "cell_type": "code",
   "execution_count": 40,
   "metadata": {},
   "outputs": [
    {
     "data": {
      "text/plain": [
       "6"
      ]
     },
     "execution_count": 40,
     "metadata": {},
     "output_type": "execute_result"
    }
   ],
   "source": [
    "#Access the THIRD element from the second row of the array using v[][]\n",
    "\n",
    "c[1][2]\n",
    "#first row\n",
    "#second column"
   ]
  },
  {
   "cell_type": "code",
   "execution_count": 41,
   "metadata": {},
   "outputs": [
    {
     "data": {
      "text/plain": [
       "6"
      ]
     },
     "execution_count": 41,
     "metadata": {},
     "output_type": "execute_result"
    }
   ],
   "source": [
    "c[1,2]\n",
    "\n",
    "#works as well"
   ]
  },
  {
   "cell_type": "code",
   "execution_count": null,
   "metadata": {},
   "outputs": [],
   "source": [
    "# of course a pandas df is also a 2d np array\n",
    "import pandas as pd \n",
    "df=pd.read_csv('checkpoint2.csv')#read any csv file here \n",
    "df.ndim"
   ]
  },
  {
   "cell_type": "markdown",
   "metadata": {},
   "source": [
    "Maths on 2 d arrays"
   ]
  },
  {
   "cell_type": "code",
   "execution_count": 43,
   "metadata": {},
   "outputs": [
    {
     "data": {
      "text/plain": [
       "34"
      ]
     },
     "execution_count": 43,
     "metadata": {},
     "output_type": "execute_result"
    }
   ],
   "source": [
    "c.sum()\n",
    "\n",
    "#sum of all values in c"
   ]
  },
  {
   "cell_type": "code",
   "execution_count": 44,
   "metadata": {},
   "outputs": [
    {
     "data": {
      "text/plain": [
       "array([10,  9,  8,  7])"
      ]
     },
     "execution_count": 44,
     "metadata": {},
     "output_type": "execute_result"
    }
   ],
   "source": [
    "c.sum(axis=0)\n",
    "\n",
    "#defined the axis here, so we get the sum of all columns"
   ]
  },
  {
   "cell_type": "code",
   "execution_count": 45,
   "metadata": {},
   "outputs": [
    {
     "data": {
      "text/plain": [
       "array([ 8, 26])"
      ]
     },
     "execution_count": 45,
     "metadata": {},
     "output_type": "execute_result"
    }
   ],
   "source": [
    "c.sum(axis=1)\n",
    "\n",
    "#we changed the axis to 1 so we have the sums of the 2 rows"
   ]
  },
  {
   "cell_type": "code",
   "execution_count": 47,
   "metadata": {},
   "outputs": [
    {
     "data": {
      "text/plain": [
       "8"
      ]
     },
     "execution_count": 47,
     "metadata": {},
     "output_type": "execute_result"
    }
   ],
   "source": [
    "c.max()"
   ]
  },
  {
   "cell_type": "code",
   "execution_count": 51,
   "metadata": {},
   "outputs": [
    {
     "data": {
      "text/plain": [
       "array([2, 2, 2, 2])"
      ]
     },
     "execution_count": 51,
     "metadata": {},
     "output_type": "execute_result"
    }
   ],
   "source": [
    "c.max(axis=0)\n",
    "c.min(axis=0)\n",
    "\n",
    "#whats the min and max of each column of the array?"
   ]
  },
  {
   "cell_type": "code",
   "execution_count": 54,
   "metadata": {},
   "outputs": [
    {
     "data": {
      "text/plain": [
       "array([5.6875, 4.4375])"
      ]
     },
     "execution_count": 54,
     "metadata": {},
     "output_type": "execute_result"
    }
   ],
   "source": [
    "#whats the difference between the variance in each row of the array \n",
    "#as compared to the overall array variance? \n",
    "\n",
    "diff = c.var() - c.var(axis=1)\n",
    "diff\n",
    "\n",
    "#we take the oveall variance of the whole array and subtract the variance per row (2 rows)\n",
    "#result is an array again as it will be 2 values (per row)"
   ]
  },
  {
   "cell_type": "code",
   "execution_count": 55,
   "metadata": {},
   "outputs": [
    {
     "data": {
      "text/plain": [
       "5.6875"
      ]
     },
     "execution_count": 55,
     "metadata": {},
     "output_type": "execute_result"
    }
   ],
   "source": [
    "c.var()"
   ]
  },
  {
   "cell_type": "code",
   "execution_count": 56,
   "metadata": {},
   "outputs": [
    {
     "data": {
      "text/plain": [
       "array([0.  , 1.25])"
      ]
     },
     "execution_count": 56,
     "metadata": {},
     "output_type": "execute_result"
    }
   ],
   "source": [
    "c.var(axis=1)"
   ]
  },
  {
   "cell_type": "markdown",
   "metadata": {},
   "source": [
    "- **3 dimension** - c=np.array([[x,y],[z,w]],[[k,j],[o,p]])"
   ]
  },
  {
   "cell_type": "code",
   "execution_count": 57,
   "metadata": {},
   "outputs": [
    {
     "data": {
      "text/plain": [
       "3"
      ]
     },
     "execution_count": 57,
     "metadata": {},
     "output_type": "execute_result"
    }
   ],
   "source": [
    "#example of a 3d array \n",
    "d=np.array([[[1,2,3], [4,4,4], [1,2,1], [3,2,2]],\n",
    "            [[5,6,7], [8,7,8], [9,9,9], [5,5,6]]])\n",
    "d.ndim\n",
    "# a 3d array can be imagined as n x 2 d arrays "
   ]
  },
  {
   "cell_type": "code",
   "execution_count": 58,
   "metadata": {},
   "outputs": [
    {
     "data": {
      "text/plain": [
       "array([[[1, 2, 3],\n",
       "        [4, 4, 4],\n",
       "        [1, 2, 1],\n",
       "        [3, 2, 2]],\n",
       "\n",
       "       [[5, 6, 7],\n",
       "        [8, 7, 8],\n",
       "        [9, 9, 9],\n",
       "        [5, 5, 6]]])"
      ]
     },
     "execution_count": 58,
     "metadata": {},
     "output_type": "execute_result"
    }
   ],
   "source": [
    "d"
   ]
  },
  {
   "cell_type": "code",
   "execution_count": 59,
   "metadata": {},
   "outputs": [
    {
     "data": {
      "text/plain": [
       "(2, 4, 3)"
      ]
     },
     "execution_count": 59,
     "metadata": {},
     "output_type": "execute_result"
    }
   ],
   "source": [
    "d.shape\n",
    "#2 sets of 4 rows and 3 columns\n",
    "#(sets, rows,columns)"
   ]
  },
  {
   "cell_type": "code",
   "execution_count": 62,
   "metadata": {},
   "outputs": [
    {
     "data": {
      "text/plain": [
       "array([[[0.49923993, 0.2317654 , 0.21996395],\n",
       "        [0.67202116, 0.02257331, 0.70409436],\n",
       "        [0.06449353, 0.5837223 , 0.85733977]],\n",
       "\n",
       "       [[0.30438622, 0.35299089, 0.52208871],\n",
       "        [0.73931871, 0.88221662, 0.22731701],\n",
       "        [0.68016203, 0.59666477, 0.85351582]],\n",
       "\n",
       "       [[0.79930452, 0.14892542, 0.73264747],\n",
       "        [0.05959822, 0.93988203, 0.06796387],\n",
       "        [0.51329711, 0.43295834, 0.61512751]]])"
      ]
     },
     "execution_count": 62,
     "metadata": {},
     "output_type": "execute_result"
    }
   ],
   "source": [
    "#another way to make a 3d array - using rand\n",
    "e = np.random.rand(3,3,3)\n",
    "e\n",
    "\n",
    "#defined array shape (sets, rows,columns)\n",
    "\n",
    "#random.rand - create an array of the given shape and populate it \n",
    "#with random samples from a uniform distribution over [0, 1)."
   ]
  },
  {
   "cell_type": "code",
   "execution_count": 64,
   "metadata": {},
   "outputs": [
    {
     "data": {
      "text/plain": [
       "3"
      ]
     },
     "execution_count": 64,
     "metadata": {},
     "output_type": "execute_result"
    }
   ],
   "source": [
    "#confirm the no of dimensions of e \n",
    "\n",
    "e.ndim"
   ]
  },
  {
   "cell_type": "code",
   "execution_count": 67,
   "metadata": {},
   "outputs": [
    {
     "data": {
      "text/plain": [
       "array([[[0., 0., 0., 0.],\n",
       "        [0., 0., 0., 0.]],\n",
       "\n",
       "       [[0., 0., 0., 0.],\n",
       "        [0., 0., 0., 0.]],\n",
       "\n",
       "       [[0., 0., 0., 0.],\n",
       "        [0., 0., 0., 0.]]])"
      ]
     },
     "execution_count": 67,
     "metadata": {},
     "output_type": "execute_result"
    }
   ],
   "source": [
    "#create a 3d array of only zeros, hint: ask google \n",
    "f = np.zeros((3, 2, 4))\n",
    "f"
   ]
  },
  {
   "cell_type": "markdown",
   "metadata": {},
   "source": [
    "## Class experiment\n",
    "\n",
    "* lets define a 2d array together by capturing some data from eachother\n",
    "* students will be organised into 4 breakout rooms of 6 \n",
    "* Each group picks a data question from this [list](https://docs.google.com/spreadsheets/d/10Jj_w8Klj9u7NoPxqq5CqSbj0MPTDfKMHsOfkJ6nUM0/edit?usp=sharing) and collects data points from each student in the group to form a 1d array\n",
    "* each group will provide a 6 digit 1d array via the chat\n",
    "* everyone builds the same class 2d array\n",
    "* we will know the groups/members but not which question was chosen\n",
    "* through the process of analysing the 2d array we put together, can we guess which questions were chosen by each group?"
   ]
  },
  {
   "cell_type": "code",
   "execution_count": 68,
   "metadata": {},
   "outputs": [],
   "source": [
    "a = np.array([29,1,2,2,7,5,8])\n"
   ]
  },
  {
   "cell_type": "code",
   "execution_count": 71,
   "metadata": {},
   "outputs": [
    {
     "data": {
      "text/plain": [
       "([20, 2, 2, 7, 2, 6],\n",
       " [6, 3, 4, 3, 3, 3],\n",
       " [4, 3, 4, 3, 4, 4],\n",
       " [29, 1, 2, 7, 5, 8])"
      ]
     },
     "execution_count": 71,
     "metadata": {},
     "output_type": "execute_result"
    }
   ],
   "source": [
    "test = ([20,2,2,7,2,6], [6,3,4,3,3,3], [4,3,4,3,4,4], [29,1,2,7,5,8])\n",
    "test"
   ]
  },
  {
   "cell_type": "markdown",
   "metadata": {},
   "source": [
    "group 1 - Berlin 6\n",
    "group 2 - Languages 5\n",
    "group 3 - Languages 5\n",
    "group 4 - Berlin 6"
   ]
  }
 ],
 "metadata": {
  "kernelspec": {
   "display_name": "Python 3",
   "language": "python",
   "name": "python3"
  },
  "language_info": {
   "codemirror_mode": {
    "name": "ipython",
    "version": 3
   },
   "file_extension": ".py",
   "mimetype": "text/x-python",
   "name": "python",
   "nbconvert_exporter": "python",
   "pygments_lexer": "ipython3",
   "version": "3.8.5"
  }
 },
 "nbformat": 4,
 "nbformat_minor": 4
}
