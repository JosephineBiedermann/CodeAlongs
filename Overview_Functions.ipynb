{
 "cells": [
  {
   "cell_type": "markdown",
   "metadata": {},
   "source": [
    "## All the Functions used so far"
   ]
  },
  {
   "cell_type": "markdown",
   "metadata": {},
   "source": [
    "#### lunch a file\n",
    "pd.read_csv()\n",
    "pd.read_excel()\n",
    "\n",
    "#### create a dataframe\n",
    "pd.DataFrame\n",
    "\n",
    "#### merge datasets/files\n",
    "pd.concat([df1,df2], axis = 0 or 1)\n",
    "\n",
    "#### write df to a file\n",
    "df.to_csv('filename.csv')\n",
    "df.to_excel('filename.xlsx')\n",
    "df.to_txt('filename.txt')"
   ]
  },
  {
   "cell_type": "markdown",
   "metadata": {},
   "source": [
    "#### overviews\n",
    "df.head()\n",
    "df.tail()\n",
    "df.shape()\n",
    "\n",
    "df.info()\n",
    "\n",
    "#### data types (how to change etc)\n",
    "df.dtypes\n",
    "df[].astype()\n",
    "df._get_numeric_data()\n",
    "pd.to_numeric(df[], errors='coerce')\n",
    "\n",
    "\n",
    "df[].value_counts()\n",
    "df[].unique()\n",
    "\n",
    "df.copy()\n",
    "\n",
    "df.set_options()\n",
    "\n",
    "df.select_dtypes()\n",
    "\n",
    "#### actions\n",
    "df.drop()\n",
    "df.rename()\n",
    "df\n"
   ]
  },
  {
   "cell_type": "markdown",
   "metadata": {},
   "source": [
    "#### change on strings\n",
    "x.upper()\n",
    "x.lower()\n",
    "x.startswith()"
   ]
  },
  {
   "cell_type": "markdown",
   "metadata": {},
   "source": [
    "#### Nulls and NaN\n",
    "\n",
    "df.isna()\n",
    "\n",
    "**df['column'].isnull().values.any()** -> check for NaN under a single DataFrame column, gives boolean: if NaN there = True, if no NaN there = False\n",
    "\n",
    "**df['column'].isnull().sum()** -> count the NaN under a single DataFrame column\n",
    "\n",
    "**df.isnull().values.any()** -> check for NaN under an entire DataFrame\n",
    "\n",
    "**df.isnull().sum().sum()** -> count the NaN under an entire DataFrame\n",
    "\n",
    "df.fillna('replacement for NaN')\n",
    "\n",
    "df.dropna(subset['column1','column2'], how = 'any')"
   ]
  },
  {
   "cell_type": "markdown",
   "metadata": {},
   "source": [
    "#### Duplicates\n",
    "\n",
    "df.duplicated()\n",
    "df.drop_duplicates()"
   ]
  },
  {
   "cell_type": "markdown",
   "metadata": {},
   "source": [
    "#### Columns\n",
    "\n",
    "df.columns[]"
   ]
  },
  {
   "cell_type": "markdown",
   "metadata": {},
   "source": [
    "#### Filtering\n",
    "\n",
    "df.query()\n",
    "df.loc[]\n",
    "df.iloc[]"
   ]
  },
  {
   "cell_type": "markdown",
   "metadata": {},
   "source": [
    "#### Index\n",
    "\n",
    "- df.reset_index(drop ...\n",
    "- df.reset_index() -> without dropping the index\n",
    "- df.set_index()\n",
    "- df.sort_index()"
   ]
  },
  {
   "cell_type": "markdown",
   "metadata": {},
   "source": [
    "#### Datetime\n",
    "\n",
    "**! need to import datetime befor using it !**\n",
    "\n",
    "- df['new column'] = **pd.datetimeIndex(df['existing column']).year** -> gives you the year from existing column in new column\n",
    "- df['new column'] = **pd.datetimeIndex(df['column']).month** -> gives you the month from existing column in new column\n",
    "\n",
    "- df['new column'] = **pd.datetime(df['column']).dt.to_period('input')** -> gives you inputs in new column\n",
    "> inputs: 'M', 'D','Y'\n",
    "\n",
    "Further info: https://www.w3schools.com/python/python_datetime.asp"
   ]
  },
  {
   "cell_type": "markdown",
   "metadata": {},
   "source": [
    "#### Lambda\n",
    "\n"
   ]
  },
  {
   "cell_type": "markdown",
   "metadata": {},
   "source": [
    "#### Map\n",
    "\n"
   ]
  },
  {
   "cell_type": "markdown",
   "metadata": {},
   "source": [
    "#### Regex = Regular Expressions\n",
    "\n",
    "https://www.regular-expressions.info/refcapture.html"
   ]
  },
  {
   "cell_type": "code",
   "execution_count": null,
   "metadata": {},
   "outputs": [],
   "source": []
  },
  {
   "cell_type": "code",
   "execution_count": null,
   "metadata": {},
   "outputs": [],
   "source": []
  },
  {
   "cell_type": "code",
   "execution_count": null,
   "metadata": {},
   "outputs": [],
   "source": []
  }
 ],
 "metadata": {
  "kernelspec": {
   "display_name": "Python 3",
   "language": "python",
   "name": "python3"
  },
  "language_info": {
   "codemirror_mode": {
    "name": "ipython",
    "version": 3
   },
   "file_extension": ".py",
   "mimetype": "text/x-python",
   "name": "python",
   "nbconvert_exporter": "python",
   "pygments_lexer": "ipython3",
   "version": "3.8.5"
  }
 },
 "nbformat": 4,
 "nbformat_minor": 4
}
